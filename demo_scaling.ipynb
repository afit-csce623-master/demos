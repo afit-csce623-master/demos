{
  "nbformat": 4,
  "nbformat_minor": 0,
  "metadata": {
    "colab": {
      "name": "Scaling tutorial.ipynb",
      "provenance": [],
      "toc_visible": true,
      "authorship_tag": "ABX9TyNvgG8TXu3x0ouaPltRrYhE",
      "include_colab_link": true
    },
    "kernelspec": {
      "name": "python3",
      "display_name": "Python 3"
    },
    "language_info": {
      "name": "python"
    }
  },
  "cells": [
    {
      "cell_type": "markdown",
      "metadata": {
        "id": "view-in-github",
        "colab_type": "text"
      },
      "source": [
        "<a href=\"https://colab.research.google.com/github/afit-csce623-master/demos/blob/main/demo_scaling.ipynb\" target=\"_parent\"><img src=\"https://colab.research.google.com/assets/colab-badge.svg\" alt=\"Open In Colab\"/></a>"
      ]
    },
    {
      "cell_type": "code",
      "metadata": {
        "id": "AMLYWsDQftgN"
      },
      "source": [
        "# This tutorial developed by W. Blair Watkinson II\n",
        "# Apr 30, 2021\n",
        "\n",
        "# Developed in support of education and research activities at \n",
        "# the Air Force Institute of Technology and the CSCE 623\n",
        "# Machine Learning course\n",
        "\n",
        "# For changes or questions, contact warren.watkinson@afit.edu\n",
        "\n",
        "# MIT License\n",
        "\n",
        "# Copyright (c) 2021 W. Blair Watkinson II\n",
        "\n",
        "# Permission is hereby granted, free of charge, to any person obtaining a copy\n",
        "# of this software and associated documentation files (the \"Software\"), to deal\n",
        "# in the Software without restriction, including without limitation the rights\n",
        "# to use, copy, modify, merge, publish, distribute, sublicense, and/or sell\n",
        "# copies of the Software, and to permit persons to whom the Software is\n",
        "# furnished to do so, subject to the following conditions:\n",
        "\n",
        "# The above copyright notice and this permission notice shall be included in all\n",
        "# copies or substantial portions of the Software.\n",
        "\n",
        "# THE SOFTWARE IS PROVIDED \"AS IS\", WITHOUT WARRANTY OF ANY KIND, EXPRESS OR\n",
        "# IMPLIED, INCLUDING BUT NOT LIMITED TO THE WARRANTIES OF MERCHANTABILITY,\n",
        "# FITNESS FOR A PARTICULAR PURPOSE AND NONINFRINGEMENT. IN NO EVENT SHALL THE\n",
        "# AUTHORS OR COPYRIGHT HOLDERS BE LIABLE FOR ANY CLAIM, DAMAGES OR OTHER\n",
        "# LIABILITY, WHETHER IN AN ACTION OF CONTRACT, TORT OR OTHERWISE, ARISING FROM,\n",
        "# OUT OF OR IN CONNECTION WITH THE SOFTWARE OR THE USE OR OTHER DEALINGS IN THE\n",
        "# SOFTWARE."
      ],
      "execution_count": 1,
      "outputs": []
    },
    {
      "cell_type": "markdown",
      "metadata": {
        "id": "rUhgHpM7fwRm"
      },
      "source": [
        "# Data Scaling and Transformation"
      ]
    },
    {
      "cell_type": "markdown",
      "metadata": {
        "id": "G-twjmponmvn"
      },
      "source": [
        "This tutorial demonstrates various techniques for data scaling and transforming for machine learning."
      ]
    },
    {
      "cell_type": "markdown",
      "metadata": {
        "id": "ddRyY78hvERZ"
      },
      "source": [
        "## Generate regression data"
      ]
    },
    {
      "cell_type": "markdown",
      "metadata": {
        "id": "2hshb73pvPgx"
      },
      "source": [
        "The `generate_data` function generates gaussian, uniform, and categorical data and calculates a regression target. It also optionally exponentiates the target values. The function is provided for your review but the particulars are beyond the scope of this tutorial."
      ]
    },
    {
      "cell_type": "markdown",
      "metadata": {
        "id": "2hbYBd0kw2tn"
      },
      "source": [
        "### Data generation function"
      ]
    },
    {
      "cell_type": "code",
      "metadata": {
        "id": "7kBU5038LtMk"
      },
      "source": [
        "import numpy as np\n",
        "import pandas as pd\n",
        "from IPython.display import Markdown as md\n",
        "from IPython.display import display, Math, Latex\n",
        "\n",
        "def generate_data(random_state, n_samples, \n",
        "                  n_gaussian_features, g_feature_mean_range, g_feature_sd_range,\n",
        "                  n_uniform_features, u_feature_range,\n",
        "                  categories, exponential_target):\n",
        "\n",
        "    coefficient_range = [0, 5]\n",
        "\n",
        "    X = pd.DataFrame()\n",
        "\n",
        "    # generate gaussian features\n",
        "    for idx in range(n_gaussian_features):\n",
        "        X[f'G{idx+1}'] = random_state.normal(\n",
        "            loc = random_state.uniform(*g_feature_mean_range), \n",
        "            scale = random_state.uniform(*g_feature_sd_range), \n",
        "            size = n_samples)\n",
        "\n",
        "\n",
        "    # generate uniform features\n",
        "    for idx in range(n_uniform_features):\n",
        "        X[f'U{idx+1}'] = random_state.uniform(*u_feature_range, n_samples)\n",
        "\n",
        "    # generate categorical features\n",
        "    for idx, category_set in enumerate(categories):\n",
        "        X[f'C{idx+1}'] = random_state.choice(category_set, n_samples)\n",
        "\n",
        "    y = pd.DataFrame()\n",
        "    y[0] = np.zeros(n_samples)\n",
        "\n",
        "\n",
        "    coef = np.zeros(n_gaussian_features \n",
        "                    + sum([len(category_set) for category_set in categories]) \n",
        "                    + n_uniform_features)\n",
        "    \n",
        "    coef_pos = 0\n",
        "    for idx, column in enumerate(X.columns):\n",
        "        if column[0] == 'G' or column[0] == 'U':\n",
        "            coef[coef_pos] = random_state.uniform(*coefficient_range)\n",
        "            coef_pos += 1\n",
        "            y[0] += X[column] * coef[idx]\n",
        "        elif column[0] == 'C':\n",
        "            temp = np.zeros(n_samples)\n",
        "            for category_val in categories[int(column[1:])-1]:\n",
        "                coef[coef_pos] = random_state.uniform(*coefficient_range)\n",
        "                temp[X[column] == category_val] = coef[coef_pos]\n",
        "                # with pd.option_context('display.max_rows', 2000, 'display.max_columns', 2000):\n",
        "                #     display(f'X[{column}]', pd.DataFrame(X[column]).T)\n",
        "\n",
        "                #     display('temp', pd.DataFrame(temp).T)\n",
        "                coef_pos += 1\n",
        "            y[0] += temp\n",
        "\n",
        "            # print(categories[int(column[1:])-1])\n",
        "            # print(len(categories[int(column[1:])-1]))\n",
        "            # coef[idx] = random_state.uniform(*coefficient_range, len(categories[int(column[1:])-1]))\n",
        "            # print(coef)\n",
        "\n",
        "            # print(categories[int(column[1:])])\n",
        "            # coef[idx] = random_state.uniform(*coefficient_range, categories[int(column[1:])])\n",
        "            # print(coef)\n",
        "            # y[0] += (X[column] == 'a') * coef[idx]\n",
        "\n",
        "    # print(coef)\n",
        "    intercept = random_state.uniform(g_feature_mean_range[1])\n",
        "\n",
        "    y[0] = np.e ** y[0]\n",
        "\n",
        "    return X, y, coef, intercept"
      ],
      "execution_count": 2,
      "outputs": []
    },
    {
      "cell_type": "markdown",
      "metadata": {
        "id": "qHh6U7q5w7m2"
      },
      "source": [
        "## Generate data"
      ]
    },
    {
      "cell_type": "markdown",
      "metadata": {
        "id": "Fz-H8ySMw-7X"
      },
      "source": [
        "Using the above function, we generate data with 2000 samples and 7 features: 3 with a normal distribution, 2 with a uniform distribution, and 2 with a categorical distribution."
      ]
    },
    {
      "cell_type": "code",
      "metadata": {
        "id": "jOfKy2AFnkmE"
      },
      "source": [
        "random_state = np.random.RandomState(623)\n",
        "\n",
        "n_samples = 2000\n",
        "n_gaussian_features = 3\n",
        "n_uniform_features = 2\n",
        "g_feature_mean_range = [1, 5]\n",
        "g_feature_sd_range = [1, 3]\n",
        "u_feature_range = [0,5]\n",
        "categories = [['a', 'b', 'c'], ['v', 'w', 'x', 'y', 'z']]\n",
        "\n",
        "# print(sum([len(category_set) for category_set in categories]))\n",
        "# print(*categories)\n",
        "\n",
        "\n",
        "# for category_set in categories[1]:\n",
        "#     display(category_set)\n",
        "\n",
        "X, y, coef, intercept = generate_data(random_state, \n",
        "                                      n_samples, \n",
        "                                      n_gaussian_features, g_feature_mean_range, g_feature_sd_range, \n",
        "                                      n_uniform_features, u_feature_range,\n",
        "                                      categories, True)"
      ],
      "execution_count": 3,
      "outputs": []
    },
    {
      "cell_type": "code",
      "metadata": {
        "colab": {
          "base_uri": "https://localhost:8080/",
          "height": 857
        },
        "id": "44HSo0CozkgS",
        "outputId": "4306d430-e21e-479b-9767-815007af2533"
      },
      "source": [
        "display(f'X: ', X)\n",
        "display(f'y: ', y)"
      ],
      "execution_count": 4,
      "outputs": [
        {
          "output_type": "display_data",
          "data": {
            "application/vnd.google.colaboratory.intrinsic+json": {
              "type": "string"
            },
            "text/plain": [
              "'X: '"
            ]
          },
          "metadata": {
            "tags": []
          }
        },
        {
          "output_type": "display_data",
          "data": {
            "text/html": [
              "<div>\n",
              "<style scoped>\n",
              "    .dataframe tbody tr th:only-of-type {\n",
              "        vertical-align: middle;\n",
              "    }\n",
              "\n",
              "    .dataframe tbody tr th {\n",
              "        vertical-align: top;\n",
              "    }\n",
              "\n",
              "    .dataframe thead th {\n",
              "        text-align: right;\n",
              "    }\n",
              "</style>\n",
              "<table border=\"1\" class=\"dataframe\">\n",
              "  <thead>\n",
              "    <tr style=\"text-align: right;\">\n",
              "      <th></th>\n",
              "      <th>G1</th>\n",
              "      <th>G2</th>\n",
              "      <th>G3</th>\n",
              "      <th>U1</th>\n",
              "      <th>U2</th>\n",
              "      <th>C1</th>\n",
              "      <th>C2</th>\n",
              "    </tr>\n",
              "  </thead>\n",
              "  <tbody>\n",
              "    <tr>\n",
              "      <th>0</th>\n",
              "      <td>6.754904</td>\n",
              "      <td>4.383600</td>\n",
              "      <td>3.699102</td>\n",
              "      <td>3.145859</td>\n",
              "      <td>1.678750</td>\n",
              "      <td>b</td>\n",
              "      <td>y</td>\n",
              "    </tr>\n",
              "    <tr>\n",
              "      <th>1</th>\n",
              "      <td>5.834529</td>\n",
              "      <td>2.478083</td>\n",
              "      <td>6.842155</td>\n",
              "      <td>0.110131</td>\n",
              "      <td>0.211036</td>\n",
              "      <td>b</td>\n",
              "      <td>w</td>\n",
              "    </tr>\n",
              "    <tr>\n",
              "      <th>2</th>\n",
              "      <td>-0.019920</td>\n",
              "      <td>5.148346</td>\n",
              "      <td>4.701757</td>\n",
              "      <td>0.418466</td>\n",
              "      <td>1.353766</td>\n",
              "      <td>b</td>\n",
              "      <td>w</td>\n",
              "    </tr>\n",
              "    <tr>\n",
              "      <th>3</th>\n",
              "      <td>6.100747</td>\n",
              "      <td>4.835442</td>\n",
              "      <td>2.565607</td>\n",
              "      <td>1.498564</td>\n",
              "      <td>0.080699</td>\n",
              "      <td>c</td>\n",
              "      <td>w</td>\n",
              "    </tr>\n",
              "    <tr>\n",
              "      <th>4</th>\n",
              "      <td>4.401672</td>\n",
              "      <td>2.800146</td>\n",
              "      <td>5.062265</td>\n",
              "      <td>3.333927</td>\n",
              "      <td>0.122657</td>\n",
              "      <td>b</td>\n",
              "      <td>v</td>\n",
              "    </tr>\n",
              "    <tr>\n",
              "      <th>...</th>\n",
              "      <td>...</td>\n",
              "      <td>...</td>\n",
              "      <td>...</td>\n",
              "      <td>...</td>\n",
              "      <td>...</td>\n",
              "      <td>...</td>\n",
              "      <td>...</td>\n",
              "    </tr>\n",
              "    <tr>\n",
              "      <th>1995</th>\n",
              "      <td>6.402820</td>\n",
              "      <td>5.245178</td>\n",
              "      <td>2.028098</td>\n",
              "      <td>4.111470</td>\n",
              "      <td>1.527076</td>\n",
              "      <td>a</td>\n",
              "      <td>w</td>\n",
              "    </tr>\n",
              "    <tr>\n",
              "      <th>1996</th>\n",
              "      <td>1.247847</td>\n",
              "      <td>0.261258</td>\n",
              "      <td>4.696588</td>\n",
              "      <td>2.271154</td>\n",
              "      <td>0.840323</td>\n",
              "      <td>c</td>\n",
              "      <td>z</td>\n",
              "    </tr>\n",
              "    <tr>\n",
              "      <th>1997</th>\n",
              "      <td>3.194544</td>\n",
              "      <td>1.267475</td>\n",
              "      <td>6.689624</td>\n",
              "      <td>0.002862</td>\n",
              "      <td>4.864324</td>\n",
              "      <td>b</td>\n",
              "      <td>w</td>\n",
              "    </tr>\n",
              "    <tr>\n",
              "      <th>1998</th>\n",
              "      <td>1.986392</td>\n",
              "      <td>2.687095</td>\n",
              "      <td>3.700734</td>\n",
              "      <td>4.526004</td>\n",
              "      <td>2.659952</td>\n",
              "      <td>b</td>\n",
              "      <td>x</td>\n",
              "    </tr>\n",
              "    <tr>\n",
              "      <th>1999</th>\n",
              "      <td>7.115270</td>\n",
              "      <td>2.969293</td>\n",
              "      <td>3.599053</td>\n",
              "      <td>1.970692</td>\n",
              "      <td>0.693389</td>\n",
              "      <td>b</td>\n",
              "      <td>z</td>\n",
              "    </tr>\n",
              "  </tbody>\n",
              "</table>\n",
              "<p>2000 rows × 7 columns</p>\n",
              "</div>"
            ],
            "text/plain": [
              "            G1        G2        G3        U1        U2 C1 C2\n",
              "0     6.754904  4.383600  3.699102  3.145859  1.678750  b  y\n",
              "1     5.834529  2.478083  6.842155  0.110131  0.211036  b  w\n",
              "2    -0.019920  5.148346  4.701757  0.418466  1.353766  b  w\n",
              "3     6.100747  4.835442  2.565607  1.498564  0.080699  c  w\n",
              "4     4.401672  2.800146  5.062265  3.333927  0.122657  b  v\n",
              "...        ...       ...       ...       ...       ... .. ..\n",
              "1995  6.402820  5.245178  2.028098  4.111470  1.527076  a  w\n",
              "1996  1.247847  0.261258  4.696588  2.271154  0.840323  c  z\n",
              "1997  3.194544  1.267475  6.689624  0.002862  4.864324  b  w\n",
              "1998  1.986392  2.687095  3.700734  4.526004  2.659952  b  x\n",
              "1999  7.115270  2.969293  3.599053  1.970692  0.693389  b  z\n",
              "\n",
              "[2000 rows x 7 columns]"
            ]
          },
          "metadata": {
            "tags": []
          }
        },
        {
          "output_type": "display_data",
          "data": {
            "application/vnd.google.colaboratory.intrinsic+json": {
              "type": "string"
            },
            "text/plain": [
              "'y: '"
            ]
          },
          "metadata": {
            "tags": []
          }
        },
        {
          "output_type": "display_data",
          "data": {
            "text/html": [
              "<div>\n",
              "<style scoped>\n",
              "    .dataframe tbody tr th:only-of-type {\n",
              "        vertical-align: middle;\n",
              "    }\n",
              "\n",
              "    .dataframe tbody tr th {\n",
              "        vertical-align: top;\n",
              "    }\n",
              "\n",
              "    .dataframe thead th {\n",
              "        text-align: right;\n",
              "    }\n",
              "</style>\n",
              "<table border=\"1\" class=\"dataframe\">\n",
              "  <thead>\n",
              "    <tr style=\"text-align: right;\">\n",
              "      <th></th>\n",
              "      <th>0</th>\n",
              "    </tr>\n",
              "  </thead>\n",
              "  <tbody>\n",
              "    <tr>\n",
              "      <th>0</th>\n",
              "      <td>5.650997e+24</td>\n",
              "    </tr>\n",
              "    <tr>\n",
              "      <th>1</th>\n",
              "      <td>1.251621e+19</td>\n",
              "    </tr>\n",
              "    <tr>\n",
              "      <th>2</th>\n",
              "      <td>5.224321e+13</td>\n",
              "    </tr>\n",
              "    <tr>\n",
              "      <th>3</th>\n",
              "      <td>1.338523e+19</td>\n",
              "    </tr>\n",
              "    <tr>\n",
              "      <th>4</th>\n",
              "      <td>1.573159e+19</td>\n",
              "    </tr>\n",
              "    <tr>\n",
              "      <th>...</th>\n",
              "      <td>...</td>\n",
              "    </tr>\n",
              "    <tr>\n",
              "      <th>1995</th>\n",
              "      <td>3.704787e+24</td>\n",
              "    </tr>\n",
              "    <tr>\n",
              "      <th>1996</th>\n",
              "      <td>2.302807e+12</td>\n",
              "    </tr>\n",
              "    <tr>\n",
              "      <th>1997</th>\n",
              "      <td>6.797808e+16</td>\n",
              "    </tr>\n",
              "    <tr>\n",
              "      <th>1998</th>\n",
              "      <td>5.038061e+19</td>\n",
              "    </tr>\n",
              "    <tr>\n",
              "      <th>1999</th>\n",
              "      <td>7.184843e+20</td>\n",
              "    </tr>\n",
              "  </tbody>\n",
              "</table>\n",
              "<p>2000 rows × 1 columns</p>\n",
              "</div>"
            ],
            "text/plain": [
              "                 0\n",
              "0     5.650997e+24\n",
              "1     1.251621e+19\n",
              "2     5.224321e+13\n",
              "3     1.338523e+19\n",
              "4     1.573159e+19\n",
              "...            ...\n",
              "1995  3.704787e+24\n",
              "1996  2.302807e+12\n",
              "1997  6.797808e+16\n",
              "1998  5.038061e+19\n",
              "1999  7.184843e+20\n",
              "\n",
              "[2000 rows x 1 columns]"
            ]
          },
          "metadata": {
            "tags": []
          }
        }
      ]
    },
    {
      "cell_type": "markdown",
      "metadata": {
        "id": "dNcb0vvZzS2i"
      },
      "source": [
        "## Sequester test data"
      ]
    },
    {
      "cell_type": "markdown",
      "metadata": {
        "id": "DMgQQbwXzWOM"
      },
      "source": [
        "Before analyzing our dataset, we will first sequester test data using the `train_test_split` function of the `scikit-learn` library."
      ]
    },
    {
      "cell_type": "code",
      "metadata": {
        "id": "QYkiPnGwzgZL"
      },
      "source": [
        "from sklearn.model_selection import train_test_split\n",
        "\n",
        "X_train, X_test, y_train, y_test = train_test_split(X, y, test_size = 0.2, random_state=random_state)"
      ],
      "execution_count": 5,
      "outputs": []
    },
    {
      "cell_type": "markdown",
      "metadata": {
        "id": "UuNxf5oh0TQu"
      },
      "source": [
        "## Analyze Data"
      ]
    },
    {
      "cell_type": "markdown",
      "metadata": {
        "id": "FKBgqLLH0YzU"
      },
      "source": [
        "Having removed our test data, we'll analyze the training set. A full analysis will be much more thorough, which will evaluate correlation and statistics for each feature, but for our purposes, we'll simply look at the histogram of each feature and the target."
      ]
    },
    {
      "cell_type": "code",
      "metadata": {
        "colab": {
          "base_uri": "https://localhost:8080/",
          "height": 628
        },
        "id": "0MAiI5s3QOx1",
        "outputId": "64be01d3-9272-48f8-c771-54f21122cc77"
      },
      "source": [
        "import matplotlib.pyplot as plt\n",
        "\n",
        "X_train.hist(layout=(1,5), figsize=(25,5))\n",
        "plt.show()\n",
        "\n",
        "y_train.hist(figsize=(5,5))\n",
        "plt.show()"
      ],
      "execution_count": 6,
      "outputs": [
        {
          "output_type": "display_data",
          "data": {
            "image/png": "[encoded data removed]",
            "text/plain": [
              "<Figure size 1800x360 with 5 Axes>"
            ]
          },
          "metadata": {
            "tags": [],
            "needs_background": "light"
          }
        },
        {
          "output_type": "display_data",
          "data": {
            "image/png": "[encoded data removed]",
            "text/plain": [
              "<Figure size 360x360 with 1 Axes>"
            ]
          },
          "metadata": {
            "tags": [],
            "needs_background": "light"
          }
        }
      ]
    },
    {
      "cell_type": "markdown",
      "metadata": {
        "id": "eOPgMsvsnlGT"
      },
      "source": [
        "Examining the histograms, we notice that the `X` features include 3 features with a normal distribution and 2 features with a uniform distribution. Also, we see that in the target the majority of the data are in the low portion of the range, with a long tail.\n",
        "\n",
        "In the code cell below, we transform the two categorical features (not displayed above) to basic ordinal data ('a' is converted to 0.0, 'b' is converted to 1.0, etc). Then, we attempt to fit a linear model. We note the root mean squared error is very large and the $R^2$ score is very low.\n",
        "\n",
        "We will not discuss the transformer process we used to transform the training and test data at this point. First, we will explore different methods to scale and transform data. Then, we will select and apply the appropriate transformations to our data."
      ]
    },
    {
      "cell_type": "code",
      "metadata": {
        "colab": {
          "base_uri": "https://localhost:8080/",
          "height": 73
        },
        "id": "SO6GCIoQ4mlu",
        "outputId": "bc4c3261-b1a1-4768-8046-0bc1e85d96e2"
      },
      "source": [
        "from sklearn.linear_model import LinearRegression\n",
        "from sklearn.preprocessing import OrdinalEncoder\n",
        "from sklearn.compose import ColumnTransformer\n",
        "from sklearn.metrics import mean_squared_error\n",
        "from sklearn.metrics import r2_score\n",
        "\n",
        "\n",
        "transformer = ColumnTransformer(\n",
        "    transformers=\n",
        "        [('categorical', OrdinalEncoder(), ['C1', 'C2'])],\n",
        "        remainder='passthrough'\n",
        "    )\n",
        "\n",
        "# transform training data\n",
        "X_train_transformed = transformer.fit_transform(X_train)\n",
        "\n",
        "# fit linear model\n",
        "linear = LinearRegression()\n",
        "linear.fit(X_train_transformed, y_train)\n",
        "\n",
        "# transform test data\n",
        "X_test_transformed = transformer.transform(X_test)\n",
        "\n",
        "# use model to make predictions, calculate error\n",
        "y_pred = linear.predict(X_test_transformed)\n",
        "rmse = mean_squared_error(y_test, y_pred)\n",
        "r2 = linear.score(X_test_transformed, y_test)\n",
        "\n",
        "display(md(f'RMSE: {rmse:.4e}'))\n",
        "display(md(f'$R^2$: {r2:.4f}'))\n",
        "\n"
      ],
      "execution_count": 7,
      "outputs": [
        {
          "output_type": "display_data",
          "data": {
            "text/markdown": "RMSE: 1.5986e+63",
            "text/plain": [
              "<IPython.core.display.Markdown object>"
            ]
          },
          "metadata": {
            "tags": []
          }
        },
        {
          "output_type": "display_data",
          "data": {
            "text/markdown": "$R^2$: 0.0432",
            "text/plain": [
              "<IPython.core.display.Markdown object>"
            ]
          },
          "metadata": {
            "tags": []
          }
        }
      ]
    },
    {
      "cell_type": "markdown",
      "metadata": {
        "id": "JCaCx1094ait"
      },
      "source": [
        "## Data transformation methods"
      ]
    },
    {
      "cell_type": "markdown",
      "metadata": {
        "id": "euoqSwTY4dHf"
      },
      "source": [
        "Before scaling and transforming our data, we will first review common scaling and transformation techniques."
      ]
    },
    {
      "cell_type": "markdown",
      "metadata": {
        "id": "2YF1b3PZfzQ3"
      },
      "source": [
        "In our data analysis, we note that both the `X` features and `y` targets have a relatively gaussian distribution. Many machine learning tasks require input data to have the same relative scale. Common scaling and normalization tools include:\n",
        "\n",
        "- Data normalization rescales all data from its original range to $[0, 1]$:\n",
        "\n",
        "  $x_i' = \\frac{(x_i - x_{min})}{(x_{max} - x_{min})}$\n",
        "\n",
        "  where $x$ represents one of the features, and $x_i$ is the $i^{th}$ observation of feature $x$. $x_{min}$ and $x_{max}$ are the minimum and maximum observations of feature $x$. $x_i'$ is the new feature value within the range $[0, 1]$. The `scikit-learn` package provides a utility for scaling all feature values with the [MinMaxScaler](https://scikit-learn.org/stable/modules/generated/sklearn.preprocessing.MinMaxScaler.html#sklearn.preprocessing.MinMaxScaler) and a slight variation, the [MaxAbsScaler](https://scikit-learn.org/stable/modules/generated/sklearn.preprocessing.MaxAbsScaler.html#sklearn.preprocessing.MaxAbsScaler). These techniques preserve the original distribution of the data and may be suitable for sparse data. One drawback of normalization is that extreme outliers will cause data to be squished toward one ond of the scale or another during normalization.\n",
        "\n",
        "- Data standardization, also known as Z-score, is a scaling technique that ensures that all data have a mean of zero and unit variance:\n",
        "\n",
        "  $x_i' = \\frac{x_i - \\mu_x}{\\sigma_x}$\n",
        "\n",
        " where $\\mu_x$ is the mean of $x$ and $\\sigma_x$ is the standard deviation of $x$. The new feature value $x_i'$ represents a feature value such that all $x'$ have a zero mean and a standard deviation of 1. The [StandardScaler](https://scikit-learn.org/stable/modules/generated/sklearn.preprocessing.StandardScaler.html#sklearn.preprocessing.StandardScaler) of the `scikit-learn` library provides this functionality. This technique is suitable for data that already have a normal distribution.\n",
        "\n",
        "- Other methods of scaling and transforming data are common, including clipping, which clips all values that exceed a fixed value. Clipping is provided for in the `scikit-learn` [MinMaxScaler](https://scikit-learn.org/stable/modules/generated/sklearn.preprocessing.MinMaxScaler.html#sklearn.preprocessing.MinMaxScaler) class. Log scaling is useful when data are not well distributed over the range with a high frequency of lower values with a long tail. Log scaling produces the power law distribution and can generate a more uniform distribution for data with a long tail. Both of these scaling methods are beyond the scope of this tutorial, but you can read more about them at [Google's Machine Learning Data Prep course](https://developers.google.com/machine-learning/data-prep/transform/normalization). Both clipping and log scaling can be followed with either normalization or standardization.\n",
        "\n",
        "- Ordinal encoding is a technique applied to categorical data that assigns each category an ordinal value, such as {\"cat\": 3, \"dog\": 4}. A major drawback of ordinal encoding is that it implies a numerical relationship between categories of data where often none exists. On the other hand, when a natural ordering exists, such as in ordinal data, \"1st\", \"2nd\", \"3rd\",  the ordinal encoding approach may be appropriate. `scikit-learn` function [OrdinalEncoder](https://scikit-learn.org/stable/modules/generated/sklearn.preprocessing.OrdinalEncoder.html) class provides this functionality. It may be appropriate to use ordinal encoding on categorical target data. For encoding `y` target category values, `scikit-learn` has provided the [LabelEncoder](https://scikit-learn.org/stable/modules/generated/sklearn.preprocessing.LabelEncoder.html#sklearn.preprocessing.LabelEncoder) class.\n",
        "\n",
        "- One-Hot encoding is appropriate for categorical variables where no numerical relationship exists. One-hot encoding takes the approach by assigning every observation a bit for every possible category. All bits are \"turned off\" except the one associated with the observation category. For example, \"cat\" and \"dog\" categories could be represented as $[1, 0]$ and $[0, 1]$, respectively. `scikit-learn` provides a one-hot encoding transformation in the [OneHotEncoder](https://scikit-learn.org/stable/modules/generated/sklearn.preprocessing.OneHotEncoder.html#sklearn.preprocessing.OneHotEncoder) class"
      ]
    },
    {
      "cell_type": "markdown",
      "metadata": {
        "id": "bgmuX3KQbKeX"
      },
      "source": [
        "## Data scaling and transformation"
      ]
    },
    {
      "cell_type": "markdown",
      "metadata": {
        "id": "ueiObyTPbNSy"
      },
      "source": [
        "Returning to our own data, we will select and apply the appropriate transformation for each feature.\n",
        "\n",
        "- We observe that features `G1`, `G2`, and `G3` all have something that reflects a normal distribution. We will plan to apply a standardization, or Z-score, transformation to these features.\n",
        "- Features `U1` and `U2` have a uniform distribution. We will normalize this data between -1 and 1 without changing the relative distance between observations.\n",
        "- `C1` and `C2` are categorical data which we'll encode with one-hot encoding.\n",
        "- Finally, the target exhibits a long tail, and we'll use log scaling to create a power distribution, which we will then normalize."
      ]
    },
    {
      "cell_type": "markdown",
      "metadata": {
        "id": "l6s4yszOf4Pw"
      },
      "source": [
        "### Transform gaussian data"
      ]
    },
    {
      "cell_type": "code",
      "metadata": {
        "colab": {
          "base_uri": "https://localhost:8080/",
          "height": 655
        },
        "id": "xnBs8dJmf4uM",
        "outputId": "3ea2ba38-d574-419f-a4d3-956520a0b80c"
      },
      "source": [
        "from sklearn.preprocessing import StandardScaler\n",
        "\n",
        "X_train[['G1', 'G2', 'G3']].hist(layout=(1,3), figsize=(15,5))\n",
        "plt.show()\n",
        "\n",
        "scaler = StandardScaler()\n",
        "X_train_gaussian = pd.DataFrame(scaler.fit_transform(X_train[['G1', 'G2', 'G3']]), columns=['G1', 'G2', 'G3'])\n",
        "X_train_gaussian.hist(layout=(1,3), figsize=(15,5))\n",
        "plt.show()"
      ],
      "execution_count": 20,
      "outputs": [
        {
          "output_type": "display_data",
          "data": {
            "image/png": "[encoded data removed]",
            "text/plain": [
              "<Figure size 1080x360 with 3 Axes>"
            ]
          },
          "metadata": {
            "tags": [],
            "needs_background": "light"
          }
        },
        {
          "output_type": "display_data",
          "data": {
            "image/png": "[encoded data removed]",
            "text/plain": [
              "<Figure size 1080x360 with 3 Axes>"
            ]
          },
          "metadata": {
            "tags": [],
            "needs_background": "light"
          }
        }
      ]
    },
    {
      "cell_type": "markdown",
      "metadata": {
        "id": "3iin2SW3hThD"
      },
      "source": [
        "### Transform uniform data"
      ]
    },
    {
      "cell_type": "code",
      "metadata": {
        "colab": {
          "base_uri": "https://localhost:8080/",
          "height": 655
        },
        "id": "CyTSPX1dhTsF",
        "outputId": "d9ccbd1f-40b7-4295-cdff-d8831fb719b4"
      },
      "source": [
        "from sklearn.preprocessing import MinMaxScaler\n",
        "\n",
        "X_train[['U1', 'U2']].hist(layout=(1,2), figsize=(10,5))\n",
        "plt.show()\n",
        "\n",
        "scaler = MinMaxScaler((-1, 1))\n",
        "X_train_uniform = pd.DataFrame(scaler.fit_transform(X_train[['U1', 'U2']]), columns=['U1', 'U2'])\n",
        "X_train_uniform.hist(layout=(1,2), figsize=(10,5))\n",
        "plt.show()"
      ],
      "execution_count": 23,
      "outputs": [
        {
          "output_type": "display_data",
          "data": {
            "image/png": "[encoded data removed]",
            "text/plain": [
              "<Figure size 720x360 with 2 Axes>"
            ]
          },
          "metadata": {
            "tags": [],
            "needs_background": "light"
          }
        },
        {
          "output_type": "display_data",
          "data": {
            "image/png": "[encoded data removed]",
            "text/plain": [
              "<Figure size 720x360 with 2 Axes>"
            ]
          },
          "metadata": {
            "tags": [],
            "needs_background": "light"
          }
        }
      ]
    },
    {
      "cell_type": "markdown",
      "metadata": {
        "id": "w1RbRNPeiPg8"
      },
      "source": [
        "### Transform categorical data"
      ]
    },
    {
      "cell_type": "code",
      "metadata": {
        "colab": {
          "base_uri": "https://localhost:8080/",
          "height": 821
        },
        "id": "vca961_QiP1d",
        "outputId": "043bc0d7-aca7-4a50-e33a-adb07ac41ce7"
      },
      "source": [
        "from sklearn.preprocessing import OneHotEncoder\n",
        "\n",
        "display(X_train[['C1', 'C2']])\n",
        "\n",
        "enc = OneHotEncoder()\n",
        "enc.fit(X_train[['C1', 'C2']])\n",
        "X_train_onehot = enc.transform(X_train[['C1', 'C2']]).toarray()\n",
        "display(pd.DataFrame(X_train_onehot))"
      ],
      "execution_count": 39,
      "outputs": [
        {
          "output_type": "display_data",
          "data": {
            "text/html": [
              "<div>\n",
              "<style scoped>\n",
              "    .dataframe tbody tr th:only-of-type {\n",
              "        vertical-align: middle;\n",
              "    }\n",
              "\n",
              "    .dataframe tbody tr th {\n",
              "        vertical-align: top;\n",
              "    }\n",
              "\n",
              "    .dataframe thead th {\n",
              "        text-align: right;\n",
              "    }\n",
              "</style>\n",
              "<table border=\"1\" class=\"dataframe\">\n",
              "  <thead>\n",
              "    <tr style=\"text-align: right;\">\n",
              "      <th></th>\n",
              "      <th>C1</th>\n",
              "      <th>C2</th>\n",
              "    </tr>\n",
              "  </thead>\n",
              "  <tbody>\n",
              "    <tr>\n",
              "      <th>1107</th>\n",
              "      <td>c</td>\n",
              "      <td>v</td>\n",
              "    </tr>\n",
              "    <tr>\n",
              "      <th>1719</th>\n",
              "      <td>c</td>\n",
              "      <td>z</td>\n",
              "    </tr>\n",
              "    <tr>\n",
              "      <th>735</th>\n",
              "      <td>b</td>\n",
              "      <td>y</td>\n",
              "    </tr>\n",
              "    <tr>\n",
              "      <th>1833</th>\n",
              "      <td>c</td>\n",
              "      <td>x</td>\n",
              "    </tr>\n",
              "    <tr>\n",
              "      <th>581</th>\n",
              "      <td>b</td>\n",
              "      <td>w</td>\n",
              "    </tr>\n",
              "    <tr>\n",
              "      <th>...</th>\n",
              "      <td>...</td>\n",
              "      <td>...</td>\n",
              "    </tr>\n",
              "    <tr>\n",
              "      <th>61</th>\n",
              "      <td>b</td>\n",
              "      <td>w</td>\n",
              "    </tr>\n",
              "    <tr>\n",
              "      <th>1001</th>\n",
              "      <td>b</td>\n",
              "      <td>v</td>\n",
              "    </tr>\n",
              "    <tr>\n",
              "      <th>222</th>\n",
              "      <td>b</td>\n",
              "      <td>x</td>\n",
              "    </tr>\n",
              "    <tr>\n",
              "      <th>1145</th>\n",
              "      <td>a</td>\n",
              "      <td>y</td>\n",
              "    </tr>\n",
              "    <tr>\n",
              "      <th>1859</th>\n",
              "      <td>b</td>\n",
              "      <td>v</td>\n",
              "    </tr>\n",
              "  </tbody>\n",
              "</table>\n",
              "<p>1600 rows × 2 columns</p>\n",
              "</div>"
            ],
            "text/plain": [
              "     C1 C2\n",
              "1107  c  v\n",
              "1719  c  z\n",
              "735   b  y\n",
              "1833  c  x\n",
              "581   b  w\n",
              "...  .. ..\n",
              "61    b  w\n",
              "1001  b  v\n",
              "222   b  x\n",
              "1145  a  y\n",
              "1859  b  v\n",
              "\n",
              "[1600 rows x 2 columns]"
            ]
          },
          "metadata": {
            "tags": []
          }
        },
        {
          "output_type": "display_data",
          "data": {
            "text/html": [
              "<div>\n",
              "<style scoped>\n",
              "    .dataframe tbody tr th:only-of-type {\n",
              "        vertical-align: middle;\n",
              "    }\n",
              "\n",
              "    .dataframe tbody tr th {\n",
              "        vertical-align: top;\n",
              "    }\n",
              "\n",
              "    .dataframe thead th {\n",
              "        text-align: right;\n",
              "    }\n",
              "</style>\n",
              "<table border=\"1\" class=\"dataframe\">\n",
              "  <thead>\n",
              "    <tr style=\"text-align: right;\">\n",
              "      <th></th>\n",
              "      <th>0</th>\n",
              "      <th>1</th>\n",
              "      <th>2</th>\n",
              "      <th>3</th>\n",
              "      <th>4</th>\n",
              "      <th>5</th>\n",
              "      <th>6</th>\n",
              "      <th>7</th>\n",
              "    </tr>\n",
              "  </thead>\n",
              "  <tbody>\n",
              "    <tr>\n",
              "      <th>0</th>\n",
              "      <td>0.0</td>\n",
              "      <td>0.0</td>\n",
              "      <td>1.0</td>\n",
              "      <td>1.0</td>\n",
              "      <td>0.0</td>\n",
              "      <td>0.0</td>\n",
              "      <td>0.0</td>\n",
              "      <td>0.0</td>\n",
              "    </tr>\n",
              "    <tr>\n",
              "      <th>1</th>\n",
              "      <td>0.0</td>\n",
              "      <td>0.0</td>\n",
              "      <td>1.0</td>\n",
              "      <td>0.0</td>\n",
              "      <td>0.0</td>\n",
              "      <td>0.0</td>\n",
              "      <td>0.0</td>\n",
              "      <td>1.0</td>\n",
              "    </tr>\n",
              "    <tr>\n",
              "      <th>2</th>\n",
              "      <td>0.0</td>\n",
              "      <td>1.0</td>\n",
              "      <td>0.0</td>\n",
              "      <td>0.0</td>\n",
              "      <td>0.0</td>\n",
              "      <td>0.0</td>\n",
              "      <td>1.0</td>\n",
              "      <td>0.0</td>\n",
              "    </tr>\n",
              "    <tr>\n",
              "      <th>3</th>\n",
              "      <td>0.0</td>\n",
              "      <td>0.0</td>\n",
              "      <td>1.0</td>\n",
              "      <td>0.0</td>\n",
              "      <td>0.0</td>\n",
              "      <td>1.0</td>\n",
              "      <td>0.0</td>\n",
              "      <td>0.0</td>\n",
              "    </tr>\n",
              "    <tr>\n",
              "      <th>4</th>\n",
              "      <td>0.0</td>\n",
              "      <td>1.0</td>\n",
              "      <td>0.0</td>\n",
              "      <td>0.0</td>\n",
              "      <td>1.0</td>\n",
              "      <td>0.0</td>\n",
              "      <td>0.0</td>\n",
              "      <td>0.0</td>\n",
              "    </tr>\n",
              "    <tr>\n",
              "      <th>...</th>\n",
              "      <td>...</td>\n",
              "      <td>...</td>\n",
              "      <td>...</td>\n",
              "      <td>...</td>\n",
              "      <td>...</td>\n",
              "      <td>...</td>\n",
              "      <td>...</td>\n",
              "      <td>...</td>\n",
              "    </tr>\n",
              "    <tr>\n",
              "      <th>1595</th>\n",
              "      <td>0.0</td>\n",
              "      <td>1.0</td>\n",
              "      <td>0.0</td>\n",
              "      <td>0.0</td>\n",
              "      <td>1.0</td>\n",
              "      <td>0.0</td>\n",
              "      <td>0.0</td>\n",
              "      <td>0.0</td>\n",
              "    </tr>\n",
              "    <tr>\n",
              "      <th>1596</th>\n",
              "      <td>0.0</td>\n",
              "      <td>1.0</td>\n",
              "      <td>0.0</td>\n",
              "      <td>1.0</td>\n",
              "      <td>0.0</td>\n",
              "      <td>0.0</td>\n",
              "      <td>0.0</td>\n",
              "      <td>0.0</td>\n",
              "    </tr>\n",
              "    <tr>\n",
              "      <th>1597</th>\n",
              "      <td>0.0</td>\n",
              "      <td>1.0</td>\n",
              "      <td>0.0</td>\n",
              "      <td>0.0</td>\n",
              "      <td>0.0</td>\n",
              "      <td>1.0</td>\n",
              "      <td>0.0</td>\n",
              "      <td>0.0</td>\n",
              "    </tr>\n",
              "    <tr>\n",
              "      <th>1598</th>\n",
              "      <td>1.0</td>\n",
              "      <td>0.0</td>\n",
              "      <td>0.0</td>\n",
              "      <td>0.0</td>\n",
              "      <td>0.0</td>\n",
              "      <td>0.0</td>\n",
              "      <td>1.0</td>\n",
              "      <td>0.0</td>\n",
              "    </tr>\n",
              "    <tr>\n",
              "      <th>1599</th>\n",
              "      <td>0.0</td>\n",
              "      <td>1.0</td>\n",
              "      <td>0.0</td>\n",
              "      <td>1.0</td>\n",
              "      <td>0.0</td>\n",
              "      <td>0.0</td>\n",
              "      <td>0.0</td>\n",
              "      <td>0.0</td>\n",
              "    </tr>\n",
              "  </tbody>\n",
              "</table>\n",
              "<p>1600 rows × 8 columns</p>\n",
              "</div>"
            ],
            "text/plain": [
              "        0    1    2    3    4    5    6    7\n",
              "0     0.0  0.0  1.0  1.0  0.0  0.0  0.0  0.0\n",
              "1     0.0  0.0  1.0  0.0  0.0  0.0  0.0  1.0\n",
              "2     0.0  1.0  0.0  0.0  0.0  0.0  1.0  0.0\n",
              "3     0.0  0.0  1.0  0.0  0.0  1.0  0.0  0.0\n",
              "4     0.0  1.0  0.0  0.0  1.0  0.0  0.0  0.0\n",
              "...   ...  ...  ...  ...  ...  ...  ...  ...\n",
              "1595  0.0  1.0  0.0  0.0  1.0  0.0  0.0  0.0\n",
              "1596  0.0  1.0  0.0  1.0  0.0  0.0  0.0  0.0\n",
              "1597  0.0  1.0  0.0  0.0  0.0  1.0  0.0  0.0\n",
              "1598  1.0  0.0  0.0  0.0  0.0  0.0  1.0  0.0\n",
              "1599  0.0  1.0  0.0  1.0  0.0  0.0  0.0  0.0\n",
              "\n",
              "[1600 rows x 8 columns]"
            ]
          },
          "metadata": {
            "tags": []
          }
        }
      ]
    },
    {
      "cell_type": "markdown",
      "metadata": {
        "id": "Kr0EezGdkzvR"
      },
      "source": [
        "### Transform target data"
      ]
    },
    {
      "cell_type": "code",
      "metadata": {
        "colab": {
          "base_uri": "https://localhost:8080/",
          "height": 987
        },
        "id": "iXfumdjUkz8f",
        "outputId": "d1d699b3-53cc-4b62-d9a5-437ee35927bf"
      },
      "source": [
        "from sklearn.preprocessing import StandardScaler\n",
        "\n",
        "y_train.hist(layout=(1,1), figsize=(5,5))\n",
        "plt.show()\n",
        "\n",
        "y_train_log = np.log(y_train)\n",
        "y_train_log.hist(layout=(1,1), figsize=(5,5))\n",
        "plt.show()\n",
        "\n",
        "scaler = StandardScaler()\n",
        "\n",
        "y_train_gaussian = pd.DataFrame(scaler.fit_transform(y_train_log[[0]]), columns=[0])\n",
        "y_train_gaussian.hist(layout=(1,1), figsize=(5,5))\n",
        "plt.show()\n",
        "# X_train_uniform.hist(layout=(1,2), figsize=(10,5))\n",
        "# plt.show()"
      ],
      "execution_count": 45,
      "outputs": [
        {
          "output_type": "display_data",
          "data": {
            "image/png": "[encoded data removed]",
            "text/plain": [
              "<Figure size 360x360 with 1 Axes>"
            ]
          },
          "metadata": {
            "tags": [],
            "needs_background": "light"
          }
        },
        {
          "output_type": "display_data",
          "data": {
            "image/png": "[encoded data removed]",
            "text/plain": [
              "<Figure size 360x360 with 1 Axes>"
            ]
          },
          "metadata": {
            "tags": [],
            "needs_background": "light"
          }
        },
        {
          "output_type": "display_data",
          "data": {
            "image/png": "[encoded data removed]",
            "text/plain": [
              "<Figure size 360x360 with 1 Axes>"
            ]
          },
          "metadata": {
            "tags": [],
            "needs_background": "light"
          }
        }
      ]
    },
    {
      "cell_type": "markdown",
      "metadata": {
        "id": "6pWNN_ktf3rq"
      },
      "source": [
        "Noting that our data has a normal distribution, we will standardize our data using the Z-score approach and the `scikit-learn` `StandardScaler` function."
      ]
    },
    {
      "cell_type": "code",
      "metadata": {
        "id": "3iQyvsIUIlwd"
      },
      "source": [
        "import numpy as np\n",
        "import pandas as pd\n",
        "from IPython.display import Markdown as md\n",
        "\n",
        "random_state = np.random.RandomState(623)\n",
        "\n",
        "# instructor provided code\n",
        "plot_x_min = -2.\n",
        "plot_x_max = 2.\n",
        "\n",
        "def generate_data(random_state, quantity = 200):\n",
        "\n",
        "\n",
        "    np.random.seed(seed)\n",
        "    x = np.random.uniform(low=plot_x_min,high=plot_x_max,size=quantity)\n",
        "    order = np.random.randint(2, 3)\n",
        "    betas = np.random.uniform(-2, 2, order)\n",
        "\n",
        "    y = sum((beta * x ** (idx+1) for idx, beta in enumerate(betas)))\n",
        "\n",
        "    beta0 = np.random.uniform(np.min(y), np.max(y))\n",
        "\n",
        "    noise = np.random.normal(size=quantity, scale = (np.max(y) - np.min(y)) / 8)\n",
        "    if test_data: # get new sample if we're generating test data\n",
        "        noise = np.random.normal(size=quantity, scale = (np.max(y) - np.min(y)) / 8)\n",
        "\n",
        "    y += noise + beta0\n",
        "\n",
        "    df = pd.DataFrame({'x': x, 'y': y})\n",
        "\n",
        "    globals()['global_betas'] = betas\n",
        "    globals()['global_beta0'] = beta0\n",
        "\n",
        "    return(df)\n",
        "\n"
      ],
      "execution_count": 8,
      "outputs": []
    },
    {
      "cell_type": "code",
      "metadata": {
        "id": "5Fk36EpTf8mj"
      },
      "source": [
        "from sklearn.preprocessing import StandardScaler\n",
        "\n",
        "# scaler_X = StandardScaler()\n",
        "# scaler_y = StandardScaler()\n",
        "\n",
        "# # fit and transform in one step\n",
        "# X_train_normalized = scaler_X.fit_transform(X_train)\n",
        "# # y_train_normalized = scaler_y.fit_transform(y_train.reshape(1, -1))\n",
        "# y_train_normalized = np.squeeze(scaler_y.fit_transform(np.expand_dims(y_train, axis=1)))"
      ],
      "execution_count": 9,
      "outputs": []
    }
  ]
}