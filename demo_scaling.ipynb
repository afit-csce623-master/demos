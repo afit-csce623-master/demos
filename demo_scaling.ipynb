{
  "nbformat": 4,
  "nbformat_minor": 0,
  "metadata": {
    "colab": {
      "name": "Scaling tutorial.ipynb",
      "provenance": [],
      "authorship_tag": "ABX9TyM55mOsV96fl6B7W22qwFpH",
      "include_colab_link": true
    },
    "kernelspec": {
      "name": "python3",
      "display_name": "Python 3"
    },
    "language_info": {
      "name": "python"
    }
  },
  "cells": [
    {
      "cell_type": "markdown",
      "metadata": {
        "id": "view-in-github",
        "colab_type": "text"
      },
      "source": [
        "<a href=\"https://colab.research.google.com/github/afit-csce623-master/demos/blob/main/demo_scaling.ipynb\" target=\"_parent\"><img src=\"https://colab.research.google.com/assets/colab-badge.svg\" alt=\"Open In Colab\"/></a>"
      ]
    },
    {
      "cell_type": "code",
      "metadata": {
        "id": "AMLYWsDQftgN"
      },
      "source": [
        "# This tutorial developed by W. Blair Watkinson II\n",
        "# Apr 30, 2021\n",
        "\n",
        "# Developed in support of education and research activities at \n",
        "# the Air Force Institute of Technology and the CSCE 623\n",
        "# Machine Learning course\n",
        "\n",
        "# For changes or questions, contact warren.watkinson@afit.edu\n",
        "\n",
        "# MIT License\n",
        "\n",
        "# Copyright (c) 2021 W. Blair Watkinson II\n",
        "\n",
        "# Permission is hereby granted, free of charge, to any person obtaining a copy\n",
        "# of this software and associated documentation files (the \"Software\"), to deal\n",
        "# in the Software without restriction, including without limitation the rights\n",
        "# to use, copy, modify, merge, publish, distribute, sublicense, and/or sell\n",
        "# copies of the Software, and to permit persons to whom the Software is\n",
        "# furnished to do so, subject to the following conditions:\n",
        "\n",
        "# The above copyright notice and this permission notice shall be included in all\n",
        "# copies or substantial portions of the Software.\n",
        "\n",
        "# THE SOFTWARE IS PROVIDED \"AS IS\", WITHOUT WARRANTY OF ANY KIND, EXPRESS OR\n",
        "# IMPLIED, INCLUDING BUT NOT LIMITED TO THE WARRANTIES OF MERCHANTABILITY,\n",
        "# FITNESS FOR A PARTICULAR PURPOSE AND NONINFRINGEMENT. IN NO EVENT SHALL THE\n",
        "# AUTHORS OR COPYRIGHT HOLDERS BE LIABLE FOR ANY CLAIM, DAMAGES OR OTHER\n",
        "# LIABILITY, WHETHER IN AN ACTION OF CONTRACT, TORT OR OTHERWISE, ARISING FROM,\n",
        "# OUT OF OR IN CONNECTION WITH THE SOFTWARE OR THE USE OR OTHER DEALINGS IN THE\n",
        "# SOFTWARE."
      ],
      "execution_count": 1,
      "outputs": []
    },
    {
      "cell_type": "markdown",
      "metadata": {
        "id": "rUhgHpM7fwRm"
      },
      "source": [
        "# Data Scaling and Transformation"
      ]
    },
    {
      "cell_type": "markdown",
      "metadata": {
        "id": "G-twjmponmvn"
      },
      "source": [
        ""
      ]
    },
    {
      "cell_type": "code",
      "metadata": {
        "id": "0MAiI5s3QOx1"
      },
      "source": [
        "import numpy as np\n",
        "import pandas as pd\n",
        "import matplotlib.pyplot as plt\n",
        "from IPython.display import Markdown as md\n",
        "from IPython.display import Markdown as md\n",
        "from IPython.display import display, Math, Latex"
      ],
      "execution_count": 33,
      "outputs": []
    },
    {
      "cell_type": "code",
      "metadata": {
        "colab": {
          "base_uri": "https://localhost:8080/",
          "height": 822
        },
        "id": "7kBU5038LtMk",
        "outputId": "ec8c90c3-e6b4-445c-ea81-c0a5e11cc09b"
      },
      "source": [
        "def generate_data(random_state, n_samples, \n",
        "                  n_gaussian_features, g_feature_mean_range, g_feature_sd_range,\n",
        "                  n_uniform_features, u_feature_range,\n",
        "                  n_categorial_features):\n",
        "\n",
        "    coefficient_range = [0, 5]\n",
        "\n",
        "    X = pd.DataFrame()\n",
        "\n",
        "    # generate gaussian features\n",
        "    for idx in range(n_gaussian_features):\n",
        "        X[f'G{idx+1}'] = random_state.normal(\n",
        "            loc = random_state.uniform(*g_feature_mean_range), \n",
        "            scale = random_state.uniform(*g_feature_sd_range), \n",
        "            size = n_samples)\n",
        "\n",
        "\n",
        "    # generate uniform features\n",
        "    for idx in range(n_uniform_features):\n",
        "        X[f'U{idx+1}'] = random_state.uniform(*u_feature_range, n_samples)\n",
        "\n",
        "    # generate categorical features\n",
        "    for idx in range(n_category_features):\n",
        "        X[f'C{idx+1}'] = random_state.choice(('a', 'b'), n_samples)\n",
        "\n",
        "    y = pd.DataFrame()\n",
        "    y[0] = np.zeros(n_samples)\n",
        "\n",
        "    coef = np.zeros(n_gaussian_features + n_category_features + n_uniform_features)\n",
        "    for idx, column in enumerate(X.columns):\n",
        "        coef[idx] = random_state.uniform(*coefficient_range)\n",
        "        if column[0] == 'G' or column[0] == 'U':\n",
        "            y[0] += X[column] * coef[idx]\n",
        "        elif column[0] == 'C':\n",
        "            y[0] += (X[column] == 'a') * coef[idx]\n",
        "\n",
        "    intercept = random_state.uniform(g_feature_mean_range[1])\n",
        "\n",
        "    y[0] = np.e ** y[0]\n",
        "\n",
        "    return X, y, coef, intercept\n",
        "\n",
        "\n",
        "random_state = np.random.RandomState(623)\n",
        "\n",
        "n_samples = 2000\n",
        "n_gaussian_features = 3\n",
        "n_uniform_features = 2\n",
        "n_category_features = 2\n",
        "g_feature_mean_range = [1, 5]\n",
        "g_feature_sd_range = [1, 3]\n",
        "u_feature_range = [0,5]\n",
        "\n",
        "X, y, coef, intercept = generate_data(random_state, \n",
        "                                      n_samples, \n",
        "                                      n_gaussian_features, g_feature_mean_range, g_feature_sd_range, \n",
        "                                      n_uniform_features, u_feature_range,\n",
        "                                      n_category_features)"
      ],
      "execution_count": 45,
      "outputs": [
        {
          "output_type": "display_data",
          "data": {
            "image/png": "[encoded data removed]",
            "text/plain": [
              "<Figure size 432x288 with 6 Axes>"
            ]
          },
          "metadata": {
            "tags": [],
            "needs_background": "light"
          }
        },
        {
          "output_type": "display_data",
          "data": {
            "image/png": "[encoded data removed]",
            "text/plain": [
              "<Figure size 432x288 with 1 Axes>"
            ]
          },
          "metadata": {
            "tags": [],
            "needs_background": "light"
          }
        },
        {
          "output_type": "display_data",
          "data": {
            "image/png": "[encoded data removed]",
            "text/plain": [
              "<Figure size 432x288 with 1 Axes>"
            ]
          },
          "metadata": {
            "tags": [],
            "needs_background": "light"
          }
        }
      ]
    },
    {
      "cell_type": "code",
      "metadata": {
        "id": "jOfKy2AFnkmE"
      },
      "source": [
        ""
      ],
      "execution_count": null,
      "outputs": []
    },
    {
      "cell_type": "markdown",
      "metadata": {
        "id": "eOPgMsvsnlGT"
      },
      "source": [
        ""
      ]
    },
    {
      "cell_type": "markdown",
      "metadata": {
        "id": "2YF1b3PZfzQ3"
      },
      "source": [
        "In our data analysis, we note that both the `X` features and `y` targets have a relatively gaussian distribution. Many machine learning tasks require input data to have the same relative scale. Common scaling and normalization tools include:\n",
        "\n",
        "- Data normalization rescales all data from its original range to $[0, 1]$:\n",
        "\n",
        "  $x_i' = \\frac{(x_i - x_{min})}{(x_{max} - x_{min})}$\n",
        "\n",
        "  where $x$ represents one of the features, and $x_i$ is the $i^{th}$ observation of feature $x$. $x_{min}$ and $x_{max}$ are the minimum and maximum observations of feature $x$. $x_i'$ is the new feature value within the range $[0, 1]$. The `scikit-learn` package provides a utility for scaling all feature values with the [MinMaxScaler](https://scikit-learn.org/stable/modules/generated/sklearn.preprocessing.MinMaxScaler.html#sklearn.preprocessing.MinMaxScaler) and a slight variation, the [MaxAbsScaler](https://scikit-learn.org/stable/modules/generated/sklearn.preprocessing.MaxAbsScaler.html#sklearn.preprocessing.MaxAbsScaler). These techniques preserve the original distribution of the data and may be suitable for sparse data. One drawback of normalization is that extreme outliers will cause data to be squished toward one ond of the scale or another during normalization.\n",
        "\n",
        "- Data standardization, also known as Z-score, is a scaling technique that ensures that all data have a mean of zero and unit variance:\n",
        "\n",
        "  $x_i' = \\frac{x_i - \\mu_x}{\\sigma_x}$\n",
        "\n",
        " where $\\mu_x$ is the mean of $x$ and $\\sigma_x$ is the standard deviation of $x$. The new feature value $x_i'$ represents a feature value such that all $x'$ have a zero mean and a standard deviation of 1. The [StandardScaler](https://scikit-learn.org/stable/modules/generated/sklearn.preprocessing.StandardScaler.html#sklearn.preprocessing.StandardScaler) of the `scikit-learn` library provides this functionality. This technique is suitable for data that already have a normal distribution.\n",
        "\n",
        "- Other methods of scaling and transforming data are common, including clipping, which clips all values that exceed a fixed value. Log scaling is useful when data are not well distributed over the range with a high frequency of lower values with a long tail. Log scaling produces the power law distribution and can generate a more uniform distribution for data with a long tail. Both of these scaling methods are beyond the scope of this tutorial, but you can read more about them at [Google's Machine Learning Data Prep course](https://developers.google.com/machine-learning/data-prep/transform/normalization). Both clipping and log scaling can be followed with either normalization or standardization."
      ]
    },
    {
      "cell_type": "markdown",
      "metadata": {
        "id": "6pWNN_ktf3rq"
      },
      "source": [
        "Noting that our data has a normal distribution, we will standardize our data using the Z-score approach and the `scikit-learn` `StandardScaler` function."
      ]
    },
    {
      "cell_type": "code",
      "metadata": {
        "id": "3iQyvsIUIlwd"
      },
      "source": [
        "import numpy as np\n",
        "import pandas as pd\n",
        "from IPython.display import Markdown as md\n",
        "\n",
        "random_state = np.random.RandomState(623)\n",
        "\n",
        "# instructor provided code\n",
        "plot_x_min = -2.\n",
        "plot_x_max = 2.\n",
        "\n",
        "def generate_data(random_state, quantity = 200):\n",
        "\n",
        "\n",
        "    np.random.seed(seed)\n",
        "    x = np.random.uniform(low=plot_x_min,high=plot_x_max,size=quantity)\n",
        "    order = np.random.randint(2, 3)\n",
        "    betas = np.random.uniform(-2, 2, order)\n",
        "\n",
        "    y = sum((beta * x ** (idx+1) for idx, beta in enumerate(betas)))\n",
        "\n",
        "    beta0 = np.random.uniform(np.min(y), np.max(y))\n",
        "\n",
        "    noise = np.random.normal(size=quantity, scale = (np.max(y) - np.min(y)) / 8)\n",
        "    if test_data: # get new sample if we're generating test data\n",
        "        noise = np.random.normal(size=quantity, scale = (np.max(y) - np.min(y)) / 8)\n",
        "\n",
        "    y += noise + beta0\n",
        "\n",
        "    df = pd.DataFrame({'x': x, 'y': y})\n",
        "\n",
        "    globals()['global_betas'] = betas\n",
        "    globals()['global_beta0'] = beta0\n",
        "\n",
        "    return(df)\n",
        "\n"
      ],
      "execution_count": 4,
      "outputs": []
    },
    {
      "cell_type": "code",
      "metadata": {
        "id": "5Fk36EpTf8mj"
      },
      "source": [
        "from sklearn.preprocessing import StandardScaler\n",
        "\n",
        "# scaler_X = StandardScaler()\n",
        "# scaler_y = StandardScaler()\n",
        "\n",
        "# # fit and transform in one step\n",
        "# X_train_normalized = scaler_X.fit_transform(X_train)\n",
        "# # y_train_normalized = scaler_y.fit_transform(y_train.reshape(1, -1))\n",
        "# y_train_normalized = np.squeeze(scaler_y.fit_transform(np.expand_dims(y_train, axis=1)))"
      ],
      "execution_count": 5,
      "outputs": []
    }
  ]
}