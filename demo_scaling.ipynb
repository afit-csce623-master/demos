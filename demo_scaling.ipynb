{
  "nbformat": 4,
  "nbformat_minor": 0,
  "metadata": {
    "colab": {
      "name": "Scaling tutorial.ipynb",
      "provenance": [],
      "toc_visible": true,
      "authorship_tag": "ABX9TyNIGkBZDhwfNvOMpA0VkJ+G",
      "include_colab_link": true
    },
    "kernelspec": {
      "name": "python3",
      "display_name": "Python 3"
    },
    "language_info": {
      "name": "python"
    }
  },
  "cells": [
    {
      "cell_type": "markdown",
      "metadata": {
        "id": "view-in-github",
        "colab_type": "text"
      },
      "source": [
        "<a href=\"https://colab.research.google.com/github/afit-csce623-master/demos/blob/main/demo_scaling.ipynb\" target=\"_parent\"><img src=\"https://colab.research.google.com/assets/colab-badge.svg\" alt=\"Open In Colab\"/></a>"
      ]
    },
    {
      "cell_type": "code",
      "metadata": {
        "id": "AMLYWsDQftgN"
      },
      "source": [
        "# This tutorial developed by W. Blair Watkinson II\n",
        "# Apr 30, 2021\n",
        "\n",
        "# Developed in support of education and research activities at \n",
        "# the Air Force Institute of Technology and the CSCE 623\n",
        "# Machine Learning course\n",
        "\n",
        "# For changes or questions, contact warren.watkinson@afit.edu\n",
        "\n",
        "# MIT License\n",
        "\n",
        "# Copyright (c) 2021 W. Blair Watkinson II\n",
        "\n",
        "# Permission is hereby granted, free of charge, to any person obtaining a copy\n",
        "# of this software and associated documentation files (the \"Software\"), to deal\n",
        "# in the Software without restriction, including without limitation the rights\n",
        "# to use, copy, modify, merge, publish, distribute, sublicense, and/or sell\n",
        "# copies of the Software, and to permit persons to whom the Software is\n",
        "# furnished to do so, subject to the following conditions:\n",
        "\n",
        "# The above copyright notice and this permission notice shall be included in all\n",
        "# copies or substantial portions of the Software.\n",
        "\n",
        "# THE SOFTWARE IS PROVIDED \"AS IS\", WITHOUT WARRANTY OF ANY KIND, EXPRESS OR\n",
        "# IMPLIED, INCLUDING BUT NOT LIMITED TO THE WARRANTIES OF MERCHANTABILITY,\n",
        "# FITNESS FOR A PARTICULAR PURPOSE AND NONINFRINGEMENT. IN NO EVENT SHALL THE\n",
        "# AUTHORS OR COPYRIGHT HOLDERS BE LIABLE FOR ANY CLAIM, DAMAGES OR OTHER\n",
        "# LIABILITY, WHETHER IN AN ACTION OF CONTRACT, TORT OR OTHERWISE, ARISING FROM,\n",
        "# OUT OF OR IN CONNECTION WITH THE SOFTWARE OR THE USE OR OTHER DEALINGS IN THE\n",
        "# SOFTWARE."
      ],
      "execution_count": 1,
      "outputs": []
    },
    {
      "cell_type": "markdown",
      "metadata": {
        "id": "rUhgHpM7fwRm"
      },
      "source": [
        "# Data Scaling and Transformation"
      ]
    },
    {
      "cell_type": "markdown",
      "metadata": {
        "id": "G-twjmponmvn"
      },
      "source": [
        "This tutorial demonstrates various techniques for data scaling and transforming for machine learning."
      ]
    },
    {
      "cell_type": "markdown",
      "metadata": {
        "id": "ddRyY78hvERZ"
      },
      "source": [
        "## Generate regression data"
      ]
    },
    {
      "cell_type": "markdown",
      "metadata": {
        "id": "2hshb73pvPgx"
      },
      "source": [
        "The `generate_data` function generates gaussian, uniform, and categorical data and calculates a regression target. It also optionally exponentiates the target values. The function is provided for your review but the particulars are beyond the scope of this tutorial."
      ]
    },
    {
      "cell_type": "markdown",
      "metadata": {
        "id": "2hbYBd0kw2tn"
      },
      "source": [
        "### Data generation function"
      ]
    },
    {
      "cell_type": "code",
      "metadata": {
        "id": "7kBU5038LtMk"
      },
      "source": [
        "import numpy as np\n",
        "import pandas as pd\n",
        "from IPython.display import Markdown as md\n",
        "from IPython.display import display, Math, Latex\n",
        "\n",
        "def generate_data(random_state, n_samples, \n",
        "                  n_gaussian_features, g_feature_mean_range, g_feature_sd_range,\n",
        "                  n_uniform_features, u_feature_range,\n",
        "                  categories, exponential_target, relative_noise):\n",
        "\n",
        "    coefficient_range = [0, 5]\n",
        "\n",
        "    X = pd.DataFrame()\n",
        "\n",
        "    # generate gaussian features\n",
        "    for idx in range(n_gaussian_features):\n",
        "        X[f'G{idx+1}'] = random_state.normal(\n",
        "            loc = random_state.uniform(*g_feature_mean_range), \n",
        "            scale = random_state.uniform(*g_feature_sd_range), \n",
        "            size = n_samples)\n",
        "\n",
        "\n",
        "    # generate uniform features\n",
        "    for idx in range(n_uniform_features):\n",
        "        X[f'U{idx+1}'] = random_state.uniform(*u_feature_range, n_samples)\n",
        "\n",
        "    # generate categorical features\n",
        "    for idx, category_set in enumerate(categories):\n",
        "        X[f'C{idx+1}'] = random_state.choice(category_set, n_samples)\n",
        "\n",
        "    y = pd.DataFrame()\n",
        "    y[0] = np.zeros(n_samples)\n",
        "\n",
        "\n",
        "    # create coefficient array\n",
        "    coef = np.zeros(n_gaussian_features \n",
        "                    + sum([len(category_set) for category_set in categories]) \n",
        "                    + n_uniform_features)\n",
        "    \n",
        "    # calculate targets using coefficients\n",
        "    coef_pos = 0\n",
        "    for idx, column in enumerate(X.columns):\n",
        "\n",
        "        # add weighted gaussian and uniform features\n",
        "        if column[0] == 'G' or column[0] == 'U':\n",
        "            coef[coef_pos] = random_state.uniform(*coefficient_range)\n",
        "            coef_pos += 1\n",
        "            y[0] += X[column] * coef[idx]\n",
        "\n",
        "        # add weighted category values\n",
        "        elif column[0] == 'C':\n",
        "            temp = np.zeros(n_samples)\n",
        "\n",
        "            # first build array of weights corresponding to array of categories,\n",
        "            # with each category mapping to a particular weight\n",
        "            # the principal here is that if you have 2 categories, \"ford\" and \"chevy\",\n",
        "            # you can add 3.5 for ford and 7.6 for chevy to the target, but we do it\n",
        "            # in a way that takes advantage of broadcasting\n",
        "            for category_val in categories[int(column[1:])-1]:\n",
        "                coef[coef_pos] = random_state.uniform(*coefficient_range)\n",
        "                temp[X[column] == category_val] = coef[coef_pos]\n",
        "                coef_pos += 1\n",
        "\n",
        "            # add array to target\n",
        "            y[0] += temp\n",
        "\n",
        "    # add an intercept, or bias\n",
        "    intercept = random_state.uniform(g_feature_mean_range[1])\n",
        "    y[0] += intercept\n",
        "\n",
        "    if exponential_target: # if target has an exponential scale, exponentiate\n",
        "        y[0] = np.exp((y[0] + abs(y[0].min())) / 10)\n",
        "\n",
        "    if relative_noise > 0:\n",
        "        y[0] += random_state.normal(y[0], y[0]/relative_noise)\n",
        "\n",
        "    return X, y, coef, intercept"
      ],
      "execution_count": 2,
      "outputs": []
    },
    {
      "cell_type": "markdown",
      "metadata": {
        "id": "qHh6U7q5w7m2"
      },
      "source": [
        "## Generate data"
      ]
    },
    {
      "cell_type": "markdown",
      "metadata": {
        "id": "Fz-H8ySMw-7X"
      },
      "source": [
        "Using the above function, we generate data with 2000 samples and 7 features: 3 with a normal distribution, 2 with a uniform distribution, and 2 with a categorical distribution."
      ]
    },
    {
      "cell_type": "code",
      "metadata": {
        "id": "jOfKy2AFnkmE"
      },
      "source": [
        "random_state = np.random.RandomState(623)\n",
        "\n",
        "n_samples = 2000\n",
        "n_gaussian_features = 3\n",
        "n_uniform_features = 2\n",
        "g_feature_mean_range = [1, 5]\n",
        "g_feature_sd_range = [1, 3]\n",
        "u_feature_range = [0,5]\n",
        "categories = [['a', 'b', 'c'], ['v', 'w', 'x', 'y', 'z']]\n",
        "\n",
        "X, y, coef, intercept = generate_data(random_state, \n",
        "                                      n_samples, \n",
        "                                      n_gaussian_features, g_feature_mean_range, g_feature_sd_range, \n",
        "                                      n_uniform_features, u_feature_range,\n",
        "                                      categories, True, 0)"
      ],
      "execution_count": 3,
      "outputs": []
    },
    {
      "cell_type": "code",
      "metadata": {
        "colab": {
          "base_uri": "https://localhost:8080/",
          "height": 857
        },
        "id": "44HSo0CozkgS",
        "outputId": "83b458a7-c899-4472-bb68-fbd728f7303c"
      },
      "source": [
        "display(f'X: ', X)\n",
        "display(f'y: ', y)"
      ],
      "execution_count": 4,
      "outputs": [
        {
          "output_type": "display_data",
          "data": {
            "application/vnd.google.colaboratory.intrinsic+json": {
              "type": "string"
            },
            "text/plain": [
              "'X: '"
            ]
          },
          "metadata": {
            "tags": []
          }
        },
        {
          "output_type": "display_data",
          "data": {
            "text/html": [
              "<div>\n",
              "<style scoped>\n",
              "    .dataframe tbody tr th:only-of-type {\n",
              "        vertical-align: middle;\n",
              "    }\n",
              "\n",
              "    .dataframe tbody tr th {\n",
              "        vertical-align: top;\n",
              "    }\n",
              "\n",
              "    .dataframe thead th {\n",
              "        text-align: right;\n",
              "    }\n",
              "</style>\n",
              "<table border=\"1\" class=\"dataframe\">\n",
              "  <thead>\n",
              "    <tr style=\"text-align: right;\">\n",
              "      <th></th>\n",
              "      <th>G1</th>\n",
              "      <th>G2</th>\n",
              "      <th>G3</th>\n",
              "      <th>U1</th>\n",
              "      <th>U2</th>\n",
              "      <th>C1</th>\n",
              "      <th>C2</th>\n",
              "    </tr>\n",
              "  </thead>\n",
              "  <tbody>\n",
              "    <tr>\n",
              "      <th>0</th>\n",
              "      <td>6.754904</td>\n",
              "      <td>4.383600</td>\n",
              "      <td>3.699102</td>\n",
              "      <td>3.145859</td>\n",
              "      <td>1.678750</td>\n",
              "      <td>b</td>\n",
              "      <td>y</td>\n",
              "    </tr>\n",
              "    <tr>\n",
              "      <th>1</th>\n",
              "      <td>5.834529</td>\n",
              "      <td>2.478083</td>\n",
              "      <td>6.842155</td>\n",
              "      <td>0.110131</td>\n",
              "      <td>0.211036</td>\n",
              "      <td>b</td>\n",
              "      <td>w</td>\n",
              "    </tr>\n",
              "    <tr>\n",
              "      <th>2</th>\n",
              "      <td>-0.019920</td>\n",
              "      <td>5.148346</td>\n",
              "      <td>4.701757</td>\n",
              "      <td>0.418466</td>\n",
              "      <td>1.353766</td>\n",
              "      <td>b</td>\n",
              "      <td>w</td>\n",
              "    </tr>\n",
              "    <tr>\n",
              "      <th>3</th>\n",
              "      <td>6.100747</td>\n",
              "      <td>4.835442</td>\n",
              "      <td>2.565607</td>\n",
              "      <td>1.498564</td>\n",
              "      <td>0.080699</td>\n",
              "      <td>c</td>\n",
              "      <td>w</td>\n",
              "    </tr>\n",
              "    <tr>\n",
              "      <th>4</th>\n",
              "      <td>4.401672</td>\n",
              "      <td>2.800146</td>\n",
              "      <td>5.062265</td>\n",
              "      <td>3.333927</td>\n",
              "      <td>0.122657</td>\n",
              "      <td>b</td>\n",
              "      <td>v</td>\n",
              "    </tr>\n",
              "    <tr>\n",
              "      <th>...</th>\n",
              "      <td>...</td>\n",
              "      <td>...</td>\n",
              "      <td>...</td>\n",
              "      <td>...</td>\n",
              "      <td>...</td>\n",
              "      <td>...</td>\n",
              "      <td>...</td>\n",
              "    </tr>\n",
              "    <tr>\n",
              "      <th>1995</th>\n",
              "      <td>6.402820</td>\n",
              "      <td>5.245178</td>\n",
              "      <td>2.028098</td>\n",
              "      <td>4.111470</td>\n",
              "      <td>1.527076</td>\n",
              "      <td>a</td>\n",
              "      <td>w</td>\n",
              "    </tr>\n",
              "    <tr>\n",
              "      <th>1996</th>\n",
              "      <td>1.247847</td>\n",
              "      <td>0.261258</td>\n",
              "      <td>4.696588</td>\n",
              "      <td>2.271154</td>\n",
              "      <td>0.840323</td>\n",
              "      <td>c</td>\n",
              "      <td>z</td>\n",
              "    </tr>\n",
              "    <tr>\n",
              "      <th>1997</th>\n",
              "      <td>3.194544</td>\n",
              "      <td>1.267475</td>\n",
              "      <td>6.689624</td>\n",
              "      <td>0.002862</td>\n",
              "      <td>4.864324</td>\n",
              "      <td>b</td>\n",
              "      <td>w</td>\n",
              "    </tr>\n",
              "    <tr>\n",
              "      <th>1998</th>\n",
              "      <td>1.986392</td>\n",
              "      <td>2.687095</td>\n",
              "      <td>3.700734</td>\n",
              "      <td>4.526004</td>\n",
              "      <td>2.659952</td>\n",
              "      <td>b</td>\n",
              "      <td>x</td>\n",
              "    </tr>\n",
              "    <tr>\n",
              "      <th>1999</th>\n",
              "      <td>7.115270</td>\n",
              "      <td>2.969293</td>\n",
              "      <td>3.599053</td>\n",
              "      <td>1.970692</td>\n",
              "      <td>0.693389</td>\n",
              "      <td>b</td>\n",
              "      <td>z</td>\n",
              "    </tr>\n",
              "  </tbody>\n",
              "</table>\n",
              "<p>2000 rows × 7 columns</p>\n",
              "</div>"
            ],
            "text/plain": [
              "            G1        G2        G3        U1        U2 C1 C2\n",
              "0     6.754904  4.383600  3.699102  3.145859  1.678750  b  y\n",
              "1     5.834529  2.478083  6.842155  0.110131  0.211036  b  w\n",
              "2    -0.019920  5.148346  4.701757  0.418466  1.353766  b  w\n",
              "3     6.100747  4.835442  2.565607  1.498564  0.080699  c  w\n",
              "4     4.401672  2.800146  5.062265  3.333927  0.122657  b  v\n",
              "...        ...       ...       ...       ...       ... .. ..\n",
              "1995  6.402820  5.245178  2.028098  4.111470  1.527076  a  w\n",
              "1996  1.247847  0.261258  4.696588  2.271154  0.840323  c  z\n",
              "1997  3.194544  1.267475  6.689624  0.002862  4.864324  b  w\n",
              "1998  1.986392  2.687095  3.700734  4.526004  2.659952  b  x\n",
              "1999  7.115270  2.969293  3.599053  1.970692  0.693389  b  z\n",
              "\n",
              "[2000 rows x 7 columns]"
            ]
          },
          "metadata": {
            "tags": []
          }
        },
        {
          "output_type": "display_data",
          "data": {
            "application/vnd.google.colaboratory.intrinsic+json": {
              "type": "string"
            },
            "text/plain": [
              "'y: '"
            ]
          },
          "metadata": {
            "tags": []
          }
        },
        {
          "output_type": "display_data",
          "data": {
            "text/html": [
              "<div>\n",
              "<style scoped>\n",
              "    .dataframe tbody tr th:only-of-type {\n",
              "        vertical-align: middle;\n",
              "    }\n",
              "\n",
              "    .dataframe tbody tr th {\n",
              "        vertical-align: top;\n",
              "    }\n",
              "\n",
              "    .dataframe thead th {\n",
              "        text-align: right;\n",
              "    }\n",
              "</style>\n",
              "<table border=\"1\" class=\"dataframe\">\n",
              "  <thead>\n",
              "    <tr style=\"text-align: right;\">\n",
              "      <th></th>\n",
              "      <th>0</th>\n",
              "    </tr>\n",
              "  </thead>\n",
              "  <tbody>\n",
              "    <tr>\n",
              "      <th>0</th>\n",
              "      <td>1281.934128</td>\n",
              "    </tr>\n",
              "    <tr>\n",
              "      <th>1</th>\n",
              "      <td>348.658678</td>\n",
              "    </tr>\n",
              "    <tr>\n",
              "      <th>2</th>\n",
              "      <td>101.031358</td>\n",
              "    </tr>\n",
              "    <tr>\n",
              "      <th>3</th>\n",
              "      <td>351.007019</td>\n",
              "    </tr>\n",
              "    <tr>\n",
              "      <th>4</th>\n",
              "      <td>356.722461</td>\n",
              "    </tr>\n",
              "    <tr>\n",
              "      <th>...</th>\n",
              "      <td>...</td>\n",
              "    </tr>\n",
              "    <tr>\n",
              "      <th>1995</th>\n",
              "      <td>1228.936739</td>\n",
              "    </tr>\n",
              "    <tr>\n",
              "      <th>1996</th>\n",
              "      <td>73.939916</td>\n",
              "    </tr>\n",
              "    <tr>\n",
              "      <th>1997</th>\n",
              "      <td>206.961752</td>\n",
              "    </tr>\n",
              "    <tr>\n",
              "      <th>1998</th>\n",
              "      <td>400.755550</td>\n",
              "    </tr>\n",
              "    <tr>\n",
              "      <th>1999</th>\n",
              "      <td>522.751072</td>\n",
              "    </tr>\n",
              "  </tbody>\n",
              "</table>\n",
              "<p>2000 rows × 1 columns</p>\n",
              "</div>"
            ],
            "text/plain": [
              "                0\n",
              "0     1281.934128\n",
              "1      348.658678\n",
              "2      101.031358\n",
              "3      351.007019\n",
              "4      356.722461\n",
              "...           ...\n",
              "1995  1228.936739\n",
              "1996    73.939916\n",
              "1997   206.961752\n",
              "1998   400.755550\n",
              "1999   522.751072\n",
              "\n",
              "[2000 rows x 1 columns]"
            ]
          },
          "metadata": {
            "tags": []
          }
        }
      ]
    },
    {
      "cell_type": "markdown",
      "metadata": {
        "id": "dNcb0vvZzS2i"
      },
      "source": [
        "## Sequester test data"
      ]
    },
    {
      "cell_type": "markdown",
      "metadata": {
        "id": "DMgQQbwXzWOM"
      },
      "source": [
        "Before analyzing our dataset, we will first sequester test data using the `train_test_split` function of the `scikit-learn` library."
      ]
    },
    {
      "cell_type": "code",
      "metadata": {
        "id": "QYkiPnGwzgZL"
      },
      "source": [
        "from sklearn.model_selection import train_test_split\n",
        "\n",
        "X_train, X_test, y_train, y_test = train_test_split(X, y, test_size = 0.2, random_state=random_state)"
      ],
      "execution_count": 5,
      "outputs": []
    },
    {
      "cell_type": "markdown",
      "metadata": {
        "id": "UuNxf5oh0TQu"
      },
      "source": [
        "## Analyze Data"
      ]
    },
    {
      "cell_type": "markdown",
      "metadata": {
        "id": "FKBgqLLH0YzU"
      },
      "source": [
        "Having removed our test data, we'll analyze the training set. A full analysis will be much more thorough, which will evaluate correlation and statistics for each feature, but for our purposes, we'll simply look at the histogram of each feature and the target."
      ]
    },
    {
      "cell_type": "code",
      "metadata": {
        "colab": {
          "base_uri": "https://localhost:8080/",
          "height": 615
        },
        "id": "0MAiI5s3QOx1",
        "outputId": "b1099a12-e5cb-4aba-bb88-6fa7811ba328"
      },
      "source": [
        "import matplotlib.pyplot as plt\n",
        "\n",
        "X_train.hist(layout=(1,5), figsize=(25,5))\n",
        "plt.show()\n",
        "\n",
        "y_train.hist(figsize=(5,5))\n",
        "plt.show()"
      ],
      "execution_count": 6,
      "outputs": [
        {
          "output_type": "display_data",
          "data": {
            "image/png": "[encoded data removed]",
            "text/plain": [
              "<Figure size 1800x360 with 5 Axes>"
            ]
          },
          "metadata": {
            "tags": [],
            "needs_background": "light"
          }
        },
        {
          "output_type": "display_data",
          "data": {
            "image/png": "[encoded data removed]",
            "text/plain": [
              "<Figure size 360x360 with 1 Axes>"
            ]
          },
          "metadata": {
            "tags": [],
            "needs_background": "light"
          }
        }
      ]
    },
    {
      "cell_type": "markdown",
      "metadata": {
        "id": "eOPgMsvsnlGT"
      },
      "source": [
        "Examining the histograms, we notice that the `X` features include 3 features with a normal distribution and 2 features with a uniform distribution. Also, we see that in the target the majority of the data are in the low portion of the range, with a long tail."
      ]
    },
    {
      "cell_type": "markdown",
      "metadata": {
        "id": "qv-2KN7zAVSH"
      },
      "source": [
        "## Naive model"
      ]
    },
    {
      "cell_type": "markdown",
      "metadata": {
        "id": "-Q1cL0xKAaQ8"
      },
      "source": [
        "In the code cell below, we transform the two categorical features (not displayed above) to basic ordinal data ('a' is converted to 0.0, 'b' is converted to 1.0, etc). Then, we attempt to fit a linear model. We note the root mean squared error is very large and the $R^2$ score is low. This \"naive\" model serves as a baseline against which we can compare the performance of a model that uses pre-processed data.\n",
        "\n",
        "We will not discuss the details for transforming the training and test data at this point. Instead, we will explore different methods to scale and transform data. Then, when we select and apply the appropriate transformations to our data, we'll get into the details of the `scikit-learn` library for transformations."
      ]
    },
    {
      "cell_type": "code",
      "metadata": {
        "colab": {
          "base_uri": "https://localhost:8080/",
          "height": 73
        },
        "id": "SO6GCIoQ4mlu",
        "outputId": "7ca67eba-4c11-4f87-e2ea-c5bbaa5ea3d8"
      },
      "source": [
        "from sklearn.linear_model import LinearRegression\n",
        "from sklearn.preprocessing import OrdinalEncoder\n",
        "from sklearn.compose import ColumnTransformer\n",
        "from sklearn.metrics import mean_squared_error\n",
        "from sklearn.metrics import r2_score\n",
        "\n",
        "\n",
        "transformer = ColumnTransformer(\n",
        "    transformers=\n",
        "        [('categorical', OrdinalEncoder(), ['C1', 'C2'])],\n",
        "        remainder='passthrough'\n",
        "    )\n",
        "\n",
        "# transform training data\n",
        "X_train_transformed = transformer.fit_transform(X_train)\n",
        "\n",
        "# fit linear model\n",
        "linear = LinearRegression()\n",
        "linear.fit(X_train_transformed, y_train)\n",
        "\n",
        "# transform test data\n",
        "X_test_transformed = transformer.transform(X_test)\n",
        "\n",
        "# use model to make predictions, calculate error\n",
        "y_pred = linear.predict(X_test_transformed)\n",
        "rmse = mean_squared_error(y_test, y_pred)\n",
        "r2 = linear.score(X_test_transformed, y_test)\n",
        "\n",
        "display(md(f'RMSE: {rmse:.4e}'))\n",
        "display(md(f'$R^2$: {r2:.4f}'))\n",
        "\n"
      ],
      "execution_count": 7,
      "outputs": [
        {
          "output_type": "display_data",
          "data": {
            "text/markdown": "RMSE: 3.2826e+05",
            "text/plain": [
              "<IPython.core.display.Markdown object>"
            ]
          },
          "metadata": {
            "tags": []
          }
        },
        {
          "output_type": "display_data",
          "data": {
            "text/markdown": "$R^2$: 0.5761",
            "text/plain": [
              "<IPython.core.display.Markdown object>"
            ]
          },
          "metadata": {
            "tags": []
          }
        }
      ]
    },
    {
      "cell_type": "markdown",
      "metadata": {
        "id": "JCaCx1094ait"
      },
      "source": [
        "## Data transformation methods"
      ]
    },
    {
      "cell_type": "markdown",
      "metadata": {
        "id": "euoqSwTY4dHf"
      },
      "source": [
        "Before scaling and transforming our data, we will first review common scaling and transformation techniques."
      ]
    },
    {
      "cell_type": "markdown",
      "metadata": {
        "id": "2YF1b3PZfzQ3"
      },
      "source": [
        "In our data analysis, we note that both the `X` features and `y` targets have a relatively gaussian distribution. Many machine learning tasks require input data to have the same relative scale. Common scaling and normalization tools include:\n",
        "\n",
        "- Data normalization rescales all data from its original range to $[0, 1]$:\n",
        "\n",
        "  $x_i' = \\frac{(x_i - x_{min})}{(x_{max} - x_{min})}$\n",
        "\n",
        "  where $x$ represents one of the features, and $x_i$ is the $i^{th}$ observation of feature $x$. $x_{min}$ and $x_{max}$ are the minimum and maximum observations of feature $x$. $x_i'$ is the new feature value within the range $[0, 1]$. The `scikit-learn` package provides a utility for scaling all feature values with the [MinMaxScaler](https://scikit-learn.org/stable/modules/generated/sklearn.preprocessing.MinMaxScaler.html#sklearn.preprocessing.MinMaxScaler) and a slight variation, the [MaxAbsScaler](https://scikit-learn.org/stable/modules/generated/sklearn.preprocessing.MaxAbsScaler.html#sklearn.preprocessing.MaxAbsScaler). These techniques preserve the original distribution of the data and may be suitable for sparse data. One drawback of normalization is that extreme outliers will cause data to be squished toward one ond of the scale or another during normalization.\n",
        "\n",
        "- Data standardization, also known as Z-score, is a scaling technique that ensures that all data have a mean of zero and unit variance:\n",
        "\n",
        "  $x_i' = \\frac{x_i - \\mu_x}{\\sigma_x}$\n",
        "\n",
        " where $\\mu_x$ is the mean of $x$ and $\\sigma_x$ is the standard deviation of $x$. The new feature value $x_i'$ represents a feature value such that all $x'$ have a zero mean and a standard deviation of 1. The [StandardScaler](https://scikit-learn.org/stable/modules/generated/sklearn.preprocessing.StandardScaler.html#sklearn.preprocessing.StandardScaler) of the `scikit-learn` library provides this functionality. This technique is suitable for data that already have a normal distribution.\n",
        "\n",
        "- Other methods of scaling and transforming data are common, including clipping, which clips all values that exceed a fixed value. Clipping is provided for in the `scikit-learn` [MinMaxScaler](https://scikit-learn.org/stable/modules/generated/sklearn.preprocessing.MinMaxScaler.html#sklearn.preprocessing.MinMaxScaler) class. Log scaling is useful when data are not well distributed over the range with a high frequency of lower values with a long tail. Log scaling produces the power law distribution and can generate a more uniform distribution for data with a long tail. Both of these scaling methods are beyond the scope of this tutorial, but you can read more about them at [Google's Machine Learning Data Prep course](https://developers.google.com/machine-learning/data-prep/transform/normalization). Both clipping and log scaling can be followed with either normalization or standardization.\n",
        "\n",
        "- Ordinal encoding is a technique applied to categorical data that assigns each category an ordinal value, such as {\"cat\": 3, \"dog\": 4}. A major drawback of ordinal encoding is that it implies a numerical relationship between categories of data where often none exists. On the other hand, when a natural ordering exists, such as in ordinal data, \"1st\", \"2nd\", \"3rd\",  the ordinal encoding approach may be appropriate. `scikit-learn` function [OrdinalEncoder](https://scikit-learn.org/stable/modules/generated/sklearn.preprocessing.OrdinalEncoder.html) class provides this functionality. \n",
        "\n",
        "  Although ordinal encoding shouldn't be used on a features where there is no numerical relationship between the feature values for model training, it can be useful for data analysis. For example, if ordinal encoding is applied to a feature, a histogram will show the distribution of that feature among the categories.\n",
        "\n",
        "  It may be appropriate to use ordinal encoding on categorical target data. For encoding `y` target category values, `scikit-learn` has provided the [LabelEncoder](https://scikit-learn.org/stable/modules/generated/sklearn.preprocessing.LabelEncoder.html#sklearn.preprocessing.LabelEncoder) class.\n",
        "\n",
        "- One-Hot encoding is appropriate for categorical variables where no numerical relationship exists. One-hot encoding takes the approach by assigning every observation a bit for every possible category. All bits are \"turned off\" except the one associated with the observation category. For example, \"cat\" and \"dog\" categories could be represented as $[1, 0]$ and $[0, 1]$, respectively. `scikit-learn` provides a one-hot encoding transformation in the [OneHotEncoder](https://scikit-learn.org/stable/modules/generated/sklearn.preprocessing.OneHotEncoder.html#sklearn.preprocessing.OneHotEncoder) class"
      ]
    },
    {
      "cell_type": "markdown",
      "metadata": {
        "id": "bgmuX3KQbKeX"
      },
      "source": [
        "## Data scaling and transformation"
      ]
    },
    {
      "cell_type": "markdown",
      "metadata": {
        "id": "ueiObyTPbNSy"
      },
      "source": [
        "Returning to our own data, we will select and apply the appropriate transformation for each feature.\n",
        "\n",
        "- We observe that features `G1`, `G2`, and `G3` all have something that reflects a normal distribution. We will plan to apply a standardization, or Z-score, transformation to these features.\n",
        "- Features `U1` and `U2` have a uniform distribution. We will normalize this data between -1 and 1 without changing the relative distance between observations.\n",
        "- `C1` and `C2` are categorical data which we'll encode with one-hot encoding.\n",
        "- Finally, the target exhibits a long tail, and we'll use log scaling to create a power distribution, which we will then normalize.\n",
        "\n",
        "The following subsections demonstrate the effects of each these transformations. We will ultimately apply these transformations through a `scikit-learn` `Pipeline` after these demonstrations."
      ]
    },
    {
      "cell_type": "markdown",
      "metadata": {
        "id": "l6s4yszOf4Pw"
      },
      "source": [
        "### Transform gaussian data"
      ]
    },
    {
      "cell_type": "markdown",
      "metadata": {
        "id": "hJed5RYwWjCn"
      },
      "source": [
        "Below, we compare the original `X` gaussian features with the result of those features after being standardized.\n",
        "\n",
        "We use the `scikit-learn` [StandardScaler](https://scikit-learn.org/stable/modules/generated/sklearn.preprocessing.StandardScaler.html) class to apply the transformation. Below, we use the `fit_transform` method to fit the scaler and to transform the data in one step. `fit` sets the parameters for the scaler, namely the mean and the standard deviation. `transform` applies the transformation to the data and returns the transformed dataset. We provide the specific columns to be transformed to the `fit_transform` method. If we were to try and pass the entire DataFram `X_train`, the scaler will attempt to conduct a standard transform on all of the columns in `X_train`, and we would we receive an error when the scaler encountered our string categorical data.\n",
        "\n",
        "In our case, we convert the result back into a DataFrame so that we can visualize the histograms. \n",
        "\n",
        "Note that you would never fit the scaler to the test data. We only fit our scalers to the training data, and then we apply those scalers to both the training data and the test data.\n",
        "\n",
        "In the histograms below, we note that the histograms retained the same shape, confirming our hypothesis that the data are essentially gaussian. We observe in the histograms of the transformed data that the mean has been shifted to 0 and the variance is approximately 1."
      ]
    },
    {
      "cell_type": "code",
      "metadata": {
        "colab": {
          "base_uri": "https://localhost:8080/",
          "height": 655
        },
        "id": "xnBs8dJmf4uM",
        "outputId": "d5de6282-1aee-49cb-f2e4-3b9425771c2b"
      },
      "source": [
        "from sklearn.preprocessing import StandardScaler\n",
        "\n",
        "X_train[['G1', 'G2', 'G3']].hist(layout=(1,3), figsize=(15,5))\n",
        "plt.show()\n",
        "\n",
        "scaler = StandardScaler()\n",
        "X_train_gaussian = pd.DataFrame(scaler.fit_transform(X_train[['G1', 'G2', 'G3']]), columns=['G1', 'G2', 'G3'])\n",
        "X_train_gaussian.hist(layout=(1,3), figsize=(15,5))\n",
        "plt.show()"
      ],
      "execution_count": 8,
      "outputs": [
        {
          "output_type": "display_data",
          "data": {
            "image/png": "[encoded data removed]",
            "text/plain": [
              "<Figure size 1080x360 with 3 Axes>"
            ]
          },
          "metadata": {
            "tags": [],
            "needs_background": "light"
          }
        },
        {
          "output_type": "display_data",
          "data": {
            "image/png": "[encoded data removed]",
            "text/plain": [
              "<Figure size 1080x360 with 3 Axes>"
            ]
          },
          "metadata": {
            "tags": [],
            "needs_background": "light"
          }
        }
      ]
    },
    {
      "cell_type": "markdown",
      "metadata": {
        "id": "3iin2SW3hThD"
      },
      "source": [
        "### Transform uniform data"
      ]
    },
    {
      "cell_type": "markdown",
      "metadata": {
        "id": "OY5hjF9XYE5S"
      },
      "source": [
        "Likewise, we transform the data having a uniform distribution. In this case, we use the [MinMaxScaler](https://scikit-learn.org/stable/modules/generated/sklearn.preprocessing.MinMaxScaler.html). The default range of the MinMaxScaler is $[0, 1]$; however, we've used $[-1, 1]$ below to remain somewhat consistent with the mean of the gaussian features.\n",
        "\n",
        "We note the effect of the transformation is to shift and scale all features to the range $[-1, 1]$."
      ]
    },
    {
      "cell_type": "code",
      "metadata": {
        "colab": {
          "base_uri": "https://localhost:8080/",
          "height": 655
        },
        "id": "CyTSPX1dhTsF",
        "outputId": "074a7407-fe38-405b-df1f-0a729ab7b97d"
      },
      "source": [
        "from sklearn.preprocessing import MinMaxScaler\n",
        "\n",
        "X_train[['U1', 'U2']].hist(layout=(1,2), figsize=(10,5))\n",
        "plt.show()\n",
        "\n",
        "scaler = MinMaxScaler((-1, 1))\n",
        "X_train_uniform = pd.DataFrame(scaler.fit_transform(X_train[['U1', 'U2']]), columns=['U1', 'U2'])\n",
        "X_train_uniform.hist(layout=(1,2), figsize=(10,5))\n",
        "plt.show()"
      ],
      "execution_count": 9,
      "outputs": [
        {
          "output_type": "display_data",
          "data": {
            "image/png": "[encoded data removed]",
            "text/plain": [
              "<Figure size 720x360 with 2 Axes>"
            ]
          },
          "metadata": {
            "tags": [],
            "needs_background": "light"
          }
        },
        {
          "output_type": "display_data",
          "data": {
            "image/png": "[encoded data removed]",
            "text/plain": [
              "<Figure size 720x360 with 2 Axes>"
            ]
          },
          "metadata": {
            "tags": [],
            "needs_background": "light"
          }
        }
      ]
    },
    {
      "cell_type": "markdown",
      "metadata": {
        "id": "w1RbRNPeiPg8"
      },
      "source": [
        "### Transform categorical data"
      ]
    },
    {
      "cell_type": "markdown",
      "metadata": {
        "id": "Ch-FP19KY8rl"
      },
      "source": [
        "For our categorical data, we use the [OneHotEncoder](https://scikit-learn.org/stable/modules/generated/sklearn.preprocessing.OneHotEncoder.html). This snippet demonstrates how easy it is to transform categorical data into a one-hot encoding. Recall that the `C1` feature has three categories `{a, b, c}` and that the `C2` feature has five features `{v, w, x, y, z}`. We see in the transformed columns that column 0 is \"hot\" for all 'a' observations. Likewise, column 1 corresponds to 'b' observations, and so forth."
      ]
    },
    {
      "cell_type": "code",
      "metadata": {
        "colab": {
          "base_uri": "https://localhost:8080/",
          "height": 821
        },
        "id": "vca961_QiP1d",
        "outputId": "96eba5f1-28e4-4012-f308-5b6a76bae921"
      },
      "source": [
        "from sklearn.preprocessing import OneHotEncoder\n",
        "\n",
        "display(X_train[['C1', 'C2']])\n",
        "\n",
        "enc = OneHotEncoder()\n",
        "enc.fit(X_train[['C1', 'C2']])\n",
        "X_train_onehot = enc.transform(X_train[['C1', 'C2']]).toarray()\n",
        "display(pd.DataFrame(X_train_onehot))"
      ],
      "execution_count": 10,
      "outputs": [
        {
          "output_type": "display_data",
          "data": {
            "text/html": [
              "<div>\n",
              "<style scoped>\n",
              "    .dataframe tbody tr th:only-of-type {\n",
              "        vertical-align: middle;\n",
              "    }\n",
              "\n",
              "    .dataframe tbody tr th {\n",
              "        vertical-align: top;\n",
              "    }\n",
              "\n",
              "    .dataframe thead th {\n",
              "        text-align: right;\n",
              "    }\n",
              "</style>\n",
              "<table border=\"1\" class=\"dataframe\">\n",
              "  <thead>\n",
              "    <tr style=\"text-align: right;\">\n",
              "      <th></th>\n",
              "      <th>C1</th>\n",
              "      <th>C2</th>\n",
              "    </tr>\n",
              "  </thead>\n",
              "  <tbody>\n",
              "    <tr>\n",
              "      <th>1107</th>\n",
              "      <td>c</td>\n",
              "      <td>v</td>\n",
              "    </tr>\n",
              "    <tr>\n",
              "      <th>1719</th>\n",
              "      <td>c</td>\n",
              "      <td>z</td>\n",
              "    </tr>\n",
              "    <tr>\n",
              "      <th>735</th>\n",
              "      <td>b</td>\n",
              "      <td>y</td>\n",
              "    </tr>\n",
              "    <tr>\n",
              "      <th>1833</th>\n",
              "      <td>c</td>\n",
              "      <td>x</td>\n",
              "    </tr>\n",
              "    <tr>\n",
              "      <th>581</th>\n",
              "      <td>b</td>\n",
              "      <td>w</td>\n",
              "    </tr>\n",
              "    <tr>\n",
              "      <th>...</th>\n",
              "      <td>...</td>\n",
              "      <td>...</td>\n",
              "    </tr>\n",
              "    <tr>\n",
              "      <th>61</th>\n",
              "      <td>b</td>\n",
              "      <td>w</td>\n",
              "    </tr>\n",
              "    <tr>\n",
              "      <th>1001</th>\n",
              "      <td>b</td>\n",
              "      <td>v</td>\n",
              "    </tr>\n",
              "    <tr>\n",
              "      <th>222</th>\n",
              "      <td>b</td>\n",
              "      <td>x</td>\n",
              "    </tr>\n",
              "    <tr>\n",
              "      <th>1145</th>\n",
              "      <td>a</td>\n",
              "      <td>y</td>\n",
              "    </tr>\n",
              "    <tr>\n",
              "      <th>1859</th>\n",
              "      <td>b</td>\n",
              "      <td>v</td>\n",
              "    </tr>\n",
              "  </tbody>\n",
              "</table>\n",
              "<p>1600 rows × 2 columns</p>\n",
              "</div>"
            ],
            "text/plain": [
              "     C1 C2\n",
              "1107  c  v\n",
              "1719  c  z\n",
              "735   b  y\n",
              "1833  c  x\n",
              "581   b  w\n",
              "...  .. ..\n",
              "61    b  w\n",
              "1001  b  v\n",
              "222   b  x\n",
              "1145  a  y\n",
              "1859  b  v\n",
              "\n",
              "[1600 rows x 2 columns]"
            ]
          },
          "metadata": {
            "tags": []
          }
        },
        {
          "output_type": "display_data",
          "data": {
            "text/html": [
              "<div>\n",
              "<style scoped>\n",
              "    .dataframe tbody tr th:only-of-type {\n",
              "        vertical-align: middle;\n",
              "    }\n",
              "\n",
              "    .dataframe tbody tr th {\n",
              "        vertical-align: top;\n",
              "    }\n",
              "\n",
              "    .dataframe thead th {\n",
              "        text-align: right;\n",
              "    }\n",
              "</style>\n",
              "<table border=\"1\" class=\"dataframe\">\n",
              "  <thead>\n",
              "    <tr style=\"text-align: right;\">\n",
              "      <th></th>\n",
              "      <th>0</th>\n",
              "      <th>1</th>\n",
              "      <th>2</th>\n",
              "      <th>3</th>\n",
              "      <th>4</th>\n",
              "      <th>5</th>\n",
              "      <th>6</th>\n",
              "      <th>7</th>\n",
              "    </tr>\n",
              "  </thead>\n",
              "  <tbody>\n",
              "    <tr>\n",
              "      <th>0</th>\n",
              "      <td>0.0</td>\n",
              "      <td>0.0</td>\n",
              "      <td>1.0</td>\n",
              "      <td>1.0</td>\n",
              "      <td>0.0</td>\n",
              "      <td>0.0</td>\n",
              "      <td>0.0</td>\n",
              "      <td>0.0</td>\n",
              "    </tr>\n",
              "    <tr>\n",
              "      <th>1</th>\n",
              "      <td>0.0</td>\n",
              "      <td>0.0</td>\n",
              "      <td>1.0</td>\n",
              "      <td>0.0</td>\n",
              "      <td>0.0</td>\n",
              "      <td>0.0</td>\n",
              "      <td>0.0</td>\n",
              "      <td>1.0</td>\n",
              "    </tr>\n",
              "    <tr>\n",
              "      <th>2</th>\n",
              "      <td>0.0</td>\n",
              "      <td>1.0</td>\n",
              "      <td>0.0</td>\n",
              "      <td>0.0</td>\n",
              "      <td>0.0</td>\n",
              "      <td>0.0</td>\n",
              "      <td>1.0</td>\n",
              "      <td>0.0</td>\n",
              "    </tr>\n",
              "    <tr>\n",
              "      <th>3</th>\n",
              "      <td>0.0</td>\n",
              "      <td>0.0</td>\n",
              "      <td>1.0</td>\n",
              "      <td>0.0</td>\n",
              "      <td>0.0</td>\n",
              "      <td>1.0</td>\n",
              "      <td>0.0</td>\n",
              "      <td>0.0</td>\n",
              "    </tr>\n",
              "    <tr>\n",
              "      <th>4</th>\n",
              "      <td>0.0</td>\n",
              "      <td>1.0</td>\n",
              "      <td>0.0</td>\n",
              "      <td>0.0</td>\n",
              "      <td>1.0</td>\n",
              "      <td>0.0</td>\n",
              "      <td>0.0</td>\n",
              "      <td>0.0</td>\n",
              "    </tr>\n",
              "    <tr>\n",
              "      <th>...</th>\n",
              "      <td>...</td>\n",
              "      <td>...</td>\n",
              "      <td>...</td>\n",
              "      <td>...</td>\n",
              "      <td>...</td>\n",
              "      <td>...</td>\n",
              "      <td>...</td>\n",
              "      <td>...</td>\n",
              "    </tr>\n",
              "    <tr>\n",
              "      <th>1595</th>\n",
              "      <td>0.0</td>\n",
              "      <td>1.0</td>\n",
              "      <td>0.0</td>\n",
              "      <td>0.0</td>\n",
              "      <td>1.0</td>\n",
              "      <td>0.0</td>\n",
              "      <td>0.0</td>\n",
              "      <td>0.0</td>\n",
              "    </tr>\n",
              "    <tr>\n",
              "      <th>1596</th>\n",
              "      <td>0.0</td>\n",
              "      <td>1.0</td>\n",
              "      <td>0.0</td>\n",
              "      <td>1.0</td>\n",
              "      <td>0.0</td>\n",
              "      <td>0.0</td>\n",
              "      <td>0.0</td>\n",
              "      <td>0.0</td>\n",
              "    </tr>\n",
              "    <tr>\n",
              "      <th>1597</th>\n",
              "      <td>0.0</td>\n",
              "      <td>1.0</td>\n",
              "      <td>0.0</td>\n",
              "      <td>0.0</td>\n",
              "      <td>0.0</td>\n",
              "      <td>1.0</td>\n",
              "      <td>0.0</td>\n",
              "      <td>0.0</td>\n",
              "    </tr>\n",
              "    <tr>\n",
              "      <th>1598</th>\n",
              "      <td>1.0</td>\n",
              "      <td>0.0</td>\n",
              "      <td>0.0</td>\n",
              "      <td>0.0</td>\n",
              "      <td>0.0</td>\n",
              "      <td>0.0</td>\n",
              "      <td>1.0</td>\n",
              "      <td>0.0</td>\n",
              "    </tr>\n",
              "    <tr>\n",
              "      <th>1599</th>\n",
              "      <td>0.0</td>\n",
              "      <td>1.0</td>\n",
              "      <td>0.0</td>\n",
              "      <td>1.0</td>\n",
              "      <td>0.0</td>\n",
              "      <td>0.0</td>\n",
              "      <td>0.0</td>\n",
              "      <td>0.0</td>\n",
              "    </tr>\n",
              "  </tbody>\n",
              "</table>\n",
              "<p>1600 rows × 8 columns</p>\n",
              "</div>"
            ],
            "text/plain": [
              "        0    1    2    3    4    5    6    7\n",
              "0     0.0  0.0  1.0  1.0  0.0  0.0  0.0  0.0\n",
              "1     0.0  0.0  1.0  0.0  0.0  0.0  0.0  1.0\n",
              "2     0.0  1.0  0.0  0.0  0.0  0.0  1.0  0.0\n",
              "3     0.0  0.0  1.0  0.0  0.0  1.0  0.0  0.0\n",
              "4     0.0  1.0  0.0  0.0  1.0  0.0  0.0  0.0\n",
              "...   ...  ...  ...  ...  ...  ...  ...  ...\n",
              "1595  0.0  1.0  0.0  0.0  1.0  0.0  0.0  0.0\n",
              "1596  0.0  1.0  0.0  1.0  0.0  0.0  0.0  0.0\n",
              "1597  0.0  1.0  0.0  0.0  0.0  1.0  0.0  0.0\n",
              "1598  1.0  0.0  0.0  0.0  0.0  0.0  1.0  0.0\n",
              "1599  0.0  1.0  0.0  1.0  0.0  0.0  0.0  0.0\n",
              "\n",
              "[1600 rows x 8 columns]"
            ]
          },
          "metadata": {
            "tags": []
          }
        }
      ]
    },
    {
      "cell_type": "markdown",
      "metadata": {
        "id": "Kr0EezGdkzvR"
      },
      "source": [
        "### Transform target data"
      ]
    },
    {
      "cell_type": "markdown",
      "metadata": {
        "id": "rXUvDD1cg7RT"
      },
      "source": [
        "Here we will transform our target data. Above, we noted that the target values are heavily represented on the lower end of the spectrum, with increasingly sparse representation in the higher end of the range of `y`.\n",
        "\n",
        "When we take the natural log of `y`, the distribution of `y` appears to take on a normal distribution. We can then standardize the data so that it has a mean of zero and a unit variance. Note that the shapes of first two histograms are identical.\n",
        "\n",
        "For demonstration purposes, we also display a power transform  using the [PowerTransformer](https://scikit-learn.org/stable/modules/generated/sklearn.preprocessing.PowerTransformer.html) function. The PowerTransformer function uses the Yeo-Johnson transform by default. When we compare the power transform histogram with the previous two histograms, we see that the shape of power transform is very slightly different than the other two, but it does have a zero mean and a unit variance."
      ]
    },
    {
      "cell_type": "code",
      "metadata": {
        "colab": {
          "base_uri": "https://localhost:8080/",
          "height": 974
        },
        "id": "iXfumdjUkz8f",
        "outputId": "972d7163-eff3-4f00-dfc7-9cad1a3f0d56"
      },
      "source": [
        "from sklearn.preprocessing import StandardScaler\n",
        "from sklearn.preprocessing import PowerTransformer\n",
        "\n",
        "# transform y => log(y)\n",
        "y_train_log = pd.DataFrame(scaler.fit_transform(np.log(y_train)), columns=['log(y)'])\n",
        "y_train_log.hist(layout=(1,1), figsize=(5,5))\n",
        "plt.show()\n",
        "\n",
        "# transform log(y) => standardized\n",
        "scaler = StandardScaler()\n",
        "y_train_gaussian = pd.DataFrame(scaler.fit_transform(y_train_log), columns=['Standardized'])\n",
        "y_train_gaussian.hist(layout=(1,1), figsize=(5,5))\n",
        "plt.show()\n",
        "\n",
        "# transform y => PowerTransform (yeo-johnson)\n",
        "scaler = PowerTransformer()\n",
        "y_train_gaussian = pd.DataFrame(scaler.fit_transform(y_train), columns=['yeo-johnson PowerTransform'])\n",
        "y_train_gaussian.hist(layout=(1,1), figsize=(5,5))\n",
        "plt.show()"
      ],
      "execution_count": 11,
      "outputs": [
        {
          "output_type": "display_data",
          "data": {
            "image/png": "[encoded data removed]",
            "text/plain": [
              "<Figure size 360x360 with 1 Axes>"
            ]
          },
          "metadata": {
            "tags": [],
            "needs_background": "light"
          }
        },
        {
          "output_type": "display_data",
          "data": {
            "image/png": "[encoded data removed]",
            "text/plain": [
              "<Figure size 360x360 with 1 Axes>"
            ]
          },
          "metadata": {
            "tags": [],
            "needs_background": "light"
          }
        },
        {
          "output_type": "display_data",
          "data": {
            "image/png": "[encoded data removed]",
            "text/plain": [
              "<Figure size 360x360 with 1 Axes>"
            ]
          },
          "metadata": {
            "tags": [],
            "needs_background": "light"
          }
        }
      ]
    },
    {
      "cell_type": "markdown",
      "metadata": {
        "id": "aE3x9p34sRyH"
      },
      "source": [
        "## Bringing it all together - Pipelines"
      ]
    },
    {
      "cell_type": "markdown",
      "metadata": {
        "id": "F5b_7pBZowmr"
      },
      "source": [
        "Though we could fit and apply each transform individually to the training data as demonstrated above, we'd also need to remember to apply each transform to the test data.\n",
        "\n",
        "A better approach is to use a workflow provided by `scikit-learn`. Specifically, we'll use:\n",
        "- A [ColumnTransformer](https://scikit-learn.org/stable/modules/generated/sklearn.compose.ColumnTransformer.html) to impose a transform on each of the input data columns\n",
        "- A [Pipeline](https://scikit-learn.org/stable/modules/generated/sklearn.pipeline.Pipeline.html) to apply one or more transforms and assign a model type\n",
        "- A [TransformedTargetRegressor](https://scikit-learn.org/stable/modules/generated/sklearn.compose.TransformedTargetRegressor.html) to take the log and then standardize our data.\n",
        "\n",
        "This workflow can be applied in different ways depending on the problem. Each part can be used independently, or they can be used collectively, as in our problem. The TransformedTargetRegressor object is particularly helpful as it will apply the desired transforms to the `y` target to fit the model, but it will automatically inverse the transform when calculating the error and predicted targets."
      ]
    },
    {
      "cell_type": "markdown",
      "metadata": {
        "id": "GmYC5L1OsW4n"
      },
      "source": [
        "### ColumnTransformer\n",
        "\n"
      ]
    },
    {
      "cell_type": "markdown",
      "metadata": {
        "id": "HU_btb1vsbck"
      },
      "source": [
        "In the cell below, we apply a ColumnTransformer to the input data. In a single command, we set up all the features for transformation. This command does not actually conduct the transformation, but it only loads the transformation. `transformer.fit(X_train)` will fit the individual scalers, `transformer.transform(X_train)` will apply the transform and return the transformed dataset. `transformer.fit_transform(X_train)` will fit the scalers and return the transformed data in a single step.\n",
        "\n",
        "Instead of fitting and applying our transformers, we will instead incorporate them into a Pipeline."
      ]
    },
    {
      "cell_type": "code",
      "metadata": {
        "id": "1YjkQuNCsXEG"
      },
      "source": [
        "from sklearn.compose import ColumnTransformer\n",
        "\n",
        "transformer = ColumnTransformer(transformers = \n",
        "    [('z', StandardScaler(), ['G1', 'G2', 'G3'] ),\n",
        "     ('normalize', MinMaxScaler(feature_range=(-1, 1)), ['U1', 'U2']),\n",
        "     ('one_hot', OneHotEncoder(), ['C1', 'C2'])\n",
        "    ]\n",
        ")"
      ],
      "execution_count": 12,
      "outputs": []
    },
    {
      "cell_type": "markdown",
      "metadata": {
        "id": "t3Ux2gOltocR"
      },
      "source": [
        "### Pipeline"
      ]
    },
    {
      "cell_type": "markdown",
      "metadata": {
        "id": "Wtp0ZZuftoox"
      },
      "source": [
        "We can setup a [Pipeline](https://scikit-learn.org/stable/modules/generated/sklearn.pipeline.Pipeline.html) incorporating the column transformer and applying a linear regression model.\n",
        "\n",
        "Some notes and caveats about pipelines:\n",
        "- When you have multiple transforms to impose on the same column, you cannot apply them in the same column transformer. Instead, you must create multiple column transforms and then apply them sequentially in a pipeline\n",
        "- The Pipeline object generates a dictionary such that you can access the `model` with `pipeline['model']`. Likesie, you can access the individual standard scaler used in the column transform, you can use `pipeline['transformer']['z'].\n",
        "\n",
        "We can conduct use the standard model methods of `fit`, `predict`, `predict_proba`, `score`, etc, using the pipeline which will automatically transform the input data and then use the selected model to `fit`, `predict`, etc, the data.\n",
        "\n",
        "Because we need to transform our target data, we will not apply the pipeline just yet. Instead, we'll incorporate the pipeline in a TransformedTargetRegressor."
      ]
    },
    {
      "cell_type": "code",
      "metadata": {
        "id": "ja1i7JaEto-G"
      },
      "source": [
        "from sklearn.pipeline import Pipeline\n",
        "from sklearn.linear_model import LinearRegression\n",
        "\n",
        "pipeline = Pipeline(steps=\n",
        "    [('transformer', transformer),\n",
        "     ('model', LinearRegression())]\n",
        ")"
      ],
      "execution_count": 13,
      "outputs": []
    },
    {
      "cell_type": "markdown",
      "metadata": {
        "id": "E-ArSsvhw52S"
      },
      "source": [
        "### TransformedTargetRegressor"
      ]
    },
    {
      "cell_type": "markdown",
      "metadata": {
        "id": "X8xGdq0ww5-d"
      },
      "source": [
        "Here, we incorporate our pipeline into a TransformedTargetRegressor.\n",
        "\n",
        "The idea behind a TransformedTargetResgressor is to apply a transform to the target data for the purpose of fitting the model, but then automatically invert the transform when calculating the score and `y` predictions.\n",
        "\n",
        "TransformedTargetRegressor requires either a transformer or two functions: `func` that conducts the transform and `inverse_func` that conducts the inverse of the transform. We introduce a global variable `target_standard_scaler` to keep track of the StandardScaler object that is used by both functions. The more correct way to implement this would be to create a class and to store the StandardScaler() as a property of objects instantiated by that class. Nonetheless, this MWE demonstrates the concepts.\n",
        "\n",
        "The TransformedTargetRegressor references the pipeline as its estimator, which means that it will use the column transformations and the linear model used in that pipeline. The `func` transformer imposes a standardization (z-score) on the natural log of the `y` target values. The inverse function first inverts the standardization of the data and then returns the natural exponentiation of the un-standardized data.\n",
        "\n",
        "This model can then be used as any other model to `fit` to training data `predict` target values, `score` its performance using test data.\n"
      ]
    },
    {
      "cell_type": "code",
      "metadata": {
        "id": "VlIbU-1-w6J-"
      },
      "source": [
        "from sklearn.compose import TransformedTargetRegressor\n",
        "\n",
        "target_standard_scaler = StandardScaler()\n",
        "\n",
        "def standard_log(y):\n",
        "    return target_standard_scaler.fit_transform(np.log(y))\n",
        "\n",
        "def exp_reskew(y):\n",
        "    y_reskew = target_standard_scaler.inverse_transform(y)\n",
        "    return np.exp(y_reskew)\n",
        "\n",
        "model = TransformedTargetRegressor(\n",
        "    regressor = pipeline,\n",
        "    func = standard_log,\n",
        "    inverse_func = exp_reskew\n",
        ")"
      ],
      "execution_count": 14,
      "outputs": []
    },
    {
      "cell_type": "markdown",
      "metadata": {
        "id": "_RE6qk_548l9"
      },
      "source": [
        "The code below has exactly the same effect as the code above, however, it uses a custom class, `StandardLog` to avoid the need for a global variable."
      ]
    },
    {
      "cell_type": "code",
      "metadata": {
        "id": "h8I9pwaE0G-N"
      },
      "source": [
        "from sklearn.preprocessing import StandardScaler\n",
        "from sklearn.compose import TransformedTargetRegressor\n",
        "from sklearn.base import BaseEstimator, TransformerMixin\n",
        "\n",
        "class StandardLog( BaseEstimator, TransformerMixin ):\n",
        "    #Class Constructor \n",
        "    def __init__( self):\n",
        "        self._scaler = StandardScaler() \n",
        "    \n",
        "    # return fitted scaler    \n",
        "    def fit( self, X, y = None ):\n",
        "        return self._scaler.fit(np.log(X)) \n",
        "    \n",
        "    # return transformed data\n",
        "    def transform( self, X, y = None ):\n",
        "        return self._scaler.transform(np.log(X))\n",
        "\n",
        "    def fit_transform(self, X, y = None):\n",
        "        return self._scaler.fit_transform(np.log(X))\n",
        "\n",
        "    def inverse_transform(self, X, y = None):\n",
        "        y_reskew = self._scaler.inverse_transform(X)\n",
        "        return np.exp(y_reskew)\n",
        "    "
      ],
      "execution_count": 15,
      "outputs": []
    },
    {
      "cell_type": "markdown",
      "metadata": {
        "id": "zAadYkJt5HNx"
      },
      "source": [
        "## Evaluate model"
      ]
    },
    {
      "cell_type": "markdown",
      "metadata": {
        "id": "cIZjaOIa8UBs"
      },
      "source": [
        "Using the various `scikit-learn` tools, we evaluate the performance of our model.\n",
        "\n",
        "First, we observe that the 10-fold cross-validated error on the training set is 0.0. When we fit the model to the training data and evaluate it on the test data, we note a 0.0 RMSE and a 1.0 $R^2$ value."
      ]
    },
    {
      "cell_type": "code",
      "metadata": {
        "colab": {
          "base_uri": "https://localhost:8080/",
          "height": 96
        },
        "id": "xm3Gxj8H5Je8",
        "outputId": "c1f8073b-1954-4616-aa35-2910dc446214"
      },
      "source": [
        "from sklearn.model_selection import cross_val_score\n",
        "from sklearn.model_selection import KFold\n",
        "from sklearn.metrics import mean_squared_error\n",
        "\n",
        "cv = KFold(n_splits=10, shuffle=True, random_state=random_state)\n",
        "scores = cross_val_score(model, X_train, y_train, scoring='neg_root_mean_squared_error', cv=cv, n_jobs=-1)\n",
        "display(md(f'CV RMSE: {-np.mean(scores):.4f}'))\n",
        "\n",
        "model.fit(X_train, y_train)\n",
        "r2 = model.score(X_test, y_test)\n",
        "display(md(f'$R^2$: {r2:.4f}'))\n",
        "\n",
        "y_pred = model.predict(X_test)\n",
        "rmse = mean_squared_error(y_test, y_pred, squared=False)\n",
        "display(md(f'RMSE: {rmse:.4f}'))"
      ],
      "execution_count": 16,
      "outputs": [
        {
          "output_type": "display_data",
          "data": {
            "text/markdown": "CV RMSE: 0.0000",
            "text/plain": [
              "<IPython.core.display.Markdown object>"
            ]
          },
          "metadata": {
            "tags": []
          }
        },
        {
          "output_type": "display_data",
          "data": {
            "text/markdown": "$R^2$: 1.0000",
            "text/plain": [
              "<IPython.core.display.Markdown object>"
            ]
          },
          "metadata": {
            "tags": []
          }
        },
        {
          "output_type": "display_data",
          "data": {
            "text/markdown": "RMSE: 0.0000",
            "text/plain": [
              "<IPython.core.display.Markdown object>"
            ]
          },
          "metadata": {
            "tags": []
          }
        }
      ]
    },
    {
      "cell_type": "markdown",
      "metadata": {
        "id": "kPt18JMT-Nb9"
      },
      "source": [
        "## Visualize benefit of transforming target values"
      ]
    },
    {
      "cell_type": "markdown",
      "metadata": {
        "id": "xSFvV2dU-QwV"
      },
      "source": [
        "Here we provide a brief demonstration of the benefit of transforming the target values. Our target values originally appeared to have a logarithmic distribution. Linear models will not perform well with such data. By transforming our target data to a power scale, we were able to more effectively fit our model.\n",
        "\n",
        "The plot on the left demonstrates the predicted values vs actual values our best model on data where we do not use a power scale for our target data. The plot on the right shows the model performance when we transform our target data.\n",
        "\n",
        "Incidentally, to calculate the predicted values without transforming the y values, we use the pipeline as our model. Recall that the pipeline only transforms the input values and then uses the linear model. To calculate the predicted values after the transform, we use the transformed target regressor as our model."
      ]
    },
    {
      "cell_type": "code",
      "metadata": {
        "colab": {
          "base_uri": "https://localhost:8080/",
          "height": 365
        },
        "id": "0mbYXyPJ-Q99",
        "outputId": "4c6ed9a5-1bc0-4aad-a3cd-6a4b7b628053"
      },
      "source": [
        "f, (ax0, ax1) = plt.subplots(1, 2, sharey=True, figsize=(10,5))\n",
        "\n",
        "# untransformed targets\n",
        "pipeline.fit(X_train, y_train)\n",
        "y_pred = pipeline.predict(X_test)\n",
        "\n",
        "# plot results\n",
        "ax0.scatter(y_test, y_pred)\n",
        "ax0.plot([0, 10000], [0, 10000], '--k')\n",
        "ax0.set_ylabel('Target predicted')\n",
        "ax0.set_xlabel('True Target')\n",
        "ax0.set_title('Linear regression \\n without target transformation')\n",
        "ax0.text(100, 9000, f'$R^2$={r2_score(y_test, y_pred):.2f}, RMSE={mean_squared_error(y_test, y_pred, squared=False):.2f}')\n",
        "\n",
        "ax0.set_xlim([0, 10000])\n",
        "ax0.set_ylim([0, 10000])\n",
        "\n",
        "\n",
        "# transformed targets\n",
        "model.fit(X_train, y_train)\n",
        "y_pred = model.predict(X_test)\n",
        "\n",
        "# plot results\n",
        "ax1.scatter(y_test, y_pred)\n",
        "ax1.plot([0, 10000], [0, 10000], '--k')\n",
        "ax1.set_ylabel('Target predicted')\n",
        "ax1.set_xlabel('True Target')\n",
        "ax1.set_title('Linear regression \\n with target transformation')\n",
        "ax1.text(200, 9000, f'$R^2$={r2_score(y_test, y_pred):.2f}, RMSE={mean_squared_error(y_test, y_pred, squared=False):.2f}')\n",
        "\n",
        "ax1.set_xlim([0, 10000])\n",
        "ax1.set_ylim([0, 10000])\n",
        "\n",
        "plt.show()"
      ],
      "execution_count": 17,
      "outputs": [
        {
          "output_type": "display_data",
          "data": {
            "image/png": "[encoded data removed]",
            "text/plain": [
              "<Figure size 720x360 with 2 Axes>"
            ]
          },
          "metadata": {
            "tags": [],
            "needs_background": "light"
          }
        }
      ]
    },
    {
      "cell_type": "markdown",
      "metadata": {
        "id": "pmKG0vTKGSit"
      },
      "source": [
        "# Complete Demo"
      ]
    },
    {
      "cell_type": "markdown",
      "metadata": {
        "id": "Cqw1MzL5GWp5"
      },
      "source": [
        "What follows is the complete demo. We introduce noise in our data. Although the RMSE is very high, note that the scale of our `y` values is in the range of $[0-8,000]$. Also, note our high $R^2$ measure."
      ]
    },
    {
      "cell_type": "code",
      "metadata": {
        "colab": {
          "base_uri": "https://localhost:8080/",
          "height": 444
        },
        "id": "29x916fDHINC",
        "outputId": "a1600ac8-fb0f-4964-957c-163f00a69abe"
      },
      "source": [
        "import numpy as np\n",
        "import pandas as pd\n",
        "from sklearn.model_selection import train_test_split\n",
        "from sklearn.compose import ColumnTransformer\n",
        "from sklearn.pipeline import Pipeline\n",
        "from sklearn.linear_model import LinearRegression\n",
        "from sklearn.preprocessing import StandardScaler\n",
        "from sklearn.preprocessing import MinMaxScaler\n",
        "from sklearn.preprocessing import OneHotEncoder\n",
        "from sklearn.compose import TransformedTargetRegressor\n",
        "from sklearn.base import BaseEstimator, TransformerMixin\n",
        "from sklearn.model_selection import cross_val_score\n",
        "from sklearn.model_selection import KFold\n",
        "from sklearn.metrics import mean_squared_error\n",
        "from sklearn.metrics import r2_score\n",
        "import matplotlib.pyplot as plt\n",
        "\n",
        "# create StandardLog class\n",
        "class StandardLog( BaseEstimator, TransformerMixin ):\n",
        "    #Class Constructor \n",
        "    def __init__( self):\n",
        "        self._scaler = StandardScaler() \n",
        "    \n",
        "    # return fitted scaler    \n",
        "    def fit( self, X, y = None ):\n",
        "        return self._scaler.fit(np.log(X)) \n",
        "    \n",
        "    # return transformed data\n",
        "    def transform( self, X, y = None ):\n",
        "        return self._scaler.transform(np.log(X))\n",
        "\n",
        "    def fit_transform(self, X, y = None):\n",
        "        return self._scaler.fit_transform(np.log(X))\n",
        "\n",
        "    def inverse_transform(self, X, y = None):\n",
        "        y_reskew = self._scaler.inverse_transform(X)\n",
        "        return np.exp(y_reskew)\n",
        "\n",
        "\n",
        "# generate data\n",
        "random_state = np.random.RandomState(623)\n",
        "\n",
        "n_samples = 2000\n",
        "n_gaussian_features = 3\n",
        "n_uniform_features = 2\n",
        "g_feature_mean_range = [1, 5]\n",
        "g_feature_sd_range = [1, 3]\n",
        "u_feature_range = [0,5]\n",
        "categories = [['a', 'b', 'c'], ['v', 'w', 'x', 'y', 'z']]\n",
        "\n",
        "X, y, coef, intercept = generate_data(random_state, \n",
        "                                      n_samples, \n",
        "                                      n_gaussian_features, g_feature_mean_range, g_feature_sd_range, \n",
        "                                      n_uniform_features, u_feature_range,\n",
        "                                      categories, True, 2)\n",
        "\n",
        "\n",
        "# sequester test data\n",
        "X_train, X_test, y_train, y_test = train_test_split(X, y, test_size = 0.2, random_state=random_state)\n",
        "\n",
        "# create data pipeline\n",
        "transformer = ColumnTransformer(transformers = \n",
        "    [('z', StandardScaler(), ['G1', 'G2', 'G3'] ),\n",
        "     ('normalize', MinMaxScaler(feature_range=(-1, 1)), ['U1', 'U2']),\n",
        "     ('one_hot', OneHotEncoder(), ['C1', 'C2'])\n",
        "    ]\n",
        ")\n",
        "\n",
        "pipeline = Pipeline(steps=\n",
        "    [('transformer', transformer),\n",
        "     ('model', LinearRegression())]\n",
        ")\n",
        "\n",
        "model = TransformedTargetRegressor(\n",
        "    regressor = pipeline,\n",
        "    transformer = StandardLog(),\n",
        ")\n",
        "\n",
        "\n",
        "# calculate cv error\n",
        "cv = KFold(n_splits=10, shuffle=True, random_state=random_state)\n",
        "scores = cross_val_score(model, X_train, y_train, scoring='neg_root_mean_squared_error', cv=cv, n_jobs=-1)\n",
        "display(md(f'CV RMSE: {-np.mean(scores):.4f}'))\n",
        "\n",
        "# calculate r2 error\n",
        "model.fit(X_train, y_train)\n",
        "r2 = model.score(X_test, y_test)\n",
        "display(md(f'$R^2$: {r2:.4f}'))\n",
        "\n",
        "# calculate rmse error\n",
        "y_pred = model.predict(X_test)\n",
        "rmse = mean_squared_error(y_test, y_pred, squared=False)\n",
        "display(md(f'RMSE: {rmse:.4f}'))\n",
        "\n",
        "\n",
        "# plot predicted targets vs actual targets\n",
        "f, (ax0, ax1) = plt.subplots(1, 2, sharey=True, figsize=(10,5))\n",
        "\n",
        "# untransformed targets\n",
        "pipeline.fit(X_train, y_train)\n",
        "y_pred = pipeline.predict(X_test)\n",
        "\n",
        "# plot results\n",
        "ax0.scatter(y_test, y_pred)\n",
        "ax0.plot([0, 8000], [0, 8000], '--k')\n",
        "ax0.set_ylabel('Target predicted')\n",
        "ax0.set_xlabel('True Target')\n",
        "ax0.set_title('Linear regression \\n without target transformation')\n",
        "ax0.text(100, 7000, f'$R^2$={r2_score(y_test, y_pred):.2f}, RMSE={mean_squared_error(y_test, y_pred, squared=False):.2f}')\n",
        "\n",
        "ax0.set_xlim([0, 8000])\n",
        "ax0.set_ylim([0, 8000])\n",
        "\n",
        "\n",
        "# transformed targets\n",
        "model.fit(X_train, y_train)\n",
        "y_pred = model.predict(X_test)\n",
        "\n",
        "# plot results\n",
        "ax1.scatter(y_test, y_pred)\n",
        "ax1.plot([0, 8000], [0, 8000], '--k')\n",
        "ax1.set_ylabel('Target predicted')\n",
        "ax1.set_xlabel('True Target')\n",
        "ax1.set_title('Linear regression \\n with target transformation')\n",
        "ax1.text(200, 7000, f'$R^2$={r2_score(y_test, y_pred):.2f}, RMSE={mean_squared_error(y_test, y_pred, squared=False):.2f}')\n",
        "\n",
        "ax1.set_xlim([0, 8000])\n",
        "ax1.set_ylim([0, 8000])\n",
        "\n",
        "plt.show()"
      ],
      "execution_count": 18,
      "outputs": [
        {
          "output_type": "display_data",
          "data": {
            "text/markdown": "CV RMSE: 524.6138",
            "text/plain": [
              "<IPython.core.display.Markdown object>"
            ]
          },
          "metadata": {
            "tags": []
          }
        },
        {
          "output_type": "display_data",
          "data": {
            "text/markdown": "$R^2$: 0.9342",
            "text/plain": [
              "<IPython.core.display.Markdown object>"
            ]
          },
          "metadata": {
            "tags": []
          }
        },
        {
          "output_type": "display_data",
          "data": {
            "text/markdown": "RMSE: 448.0009",
            "text/plain": [
              "<IPython.core.display.Markdown object>"
            ]
          },
          "metadata": {
            "tags": []
          }
        },
        {
          "output_type": "display_data",
          "data": {
            "image/png": "[encoded data removed]",
            "text/plain": [
              "<Figure size 720x360 with 2 Axes>"
            ]
          },
          "metadata": {
            "tags": [],
            "needs_background": "light"
          }
        }
      ]
    }
  ]
}