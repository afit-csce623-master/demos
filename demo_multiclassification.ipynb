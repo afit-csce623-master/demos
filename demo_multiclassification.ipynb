{
  "nbformat": 4,
  "nbformat_minor": 0,
  "metadata": {
    "colab": {
      "name": "demo_multiclassification.ipynb",
      "provenance": [],
      "toc_visible": true,
      "authorship_tag": "ABX9TyNc6WhnfCy5QaacecZrjn2u",
      "include_colab_link": true
    },
    "kernelspec": {
      "name": "python3",
      "display_name": "Python 3"
    },
    "language_info": {
      "name": "python"
    }
  },
  "cells": [
    {
      "cell_type": "markdown",
      "metadata": {
        "id": "view-in-github",
        "colab_type": "text"
      },
      "source": [
        "<a href=\"https://colab.research.google.com/github/afit-csce623-master/demos/blob/main/demo_multiclassification.ipynb\" target=\"_parent\"><img src=\"https://colab.research.google.com/assets/colab-badge.svg\" alt=\"Open In Colab\"/></a>"
      ]
    },
    {
      "cell_type": "code",
      "metadata": {
        "id": "coVFQTWtglu9"
      },
      "source": [
        "# This tutorial developed by W. Blair Watkinson II\n",
        "# May 11, 2021\n",
        "\n",
        "# Developed in support of education and research activities at \n",
        "# the Air Force Institute of Technology and the CSCE 623\n",
        "# Machine Learning course\n",
        "\n",
        "# For changes or questions, contact warren.watkinson@afit.edu\n",
        "\n",
        "# Public Domain\n",
        "\n",
        "# This is free and unencumbered software released into the public domain.\n",
        "\n",
        "# Anyone is free to copy, modify, publish, use, compile, sell, or\n",
        "# distribute this software, either in source code form or as a compiled\n",
        "# binary, for any purpose, commercial or non-commercial, and by any\n",
        "# means.\n",
        "\n",
        "# In jurisdictions that recognize copyright laws, the author or authors\n",
        "# of this software dedicate any and all copyright interest in the\n",
        "# software to the public domain. We make this dedication for the benefit\n",
        "# of the public at large and to the detriment of our heirs and\n",
        "# successors. We intend this dedication to be an overt act of\n",
        "# relinquishment in perpetuity of all present and future rights to this\n",
        "# software under copyright law.\n",
        "\n",
        "# THE SOFTWARE IS PROVIDED \"AS IS\", WITHOUT WARRANTY OF ANY KIND,\n",
        "# EXPRESS OR IMPLIED, INCLUDING BUT NOT LIMITED TO THE WARRANTIES OF\n",
        "# MERCHANTABILITY, FITNESS FOR A PARTICULAR PURPOSE AND NONINFRINGEMENT.\n",
        "# IN NO EVENT SHALL THE AUTHORS BE LIABLE FOR ANY CLAIM, DAMAGES OR\n",
        "# OTHER LIABILITY, WHETHER IN AN ACTION OF CONTRACT, TORT OR OTHERWISE,\n",
        "# ARISING FROM, OUT OF OR IN CONNECTION WITH THE SOFTWARE OR THE USE OR\n",
        "# OTHER DEALINGS IN THE SOFTWARE.\n",
        "\n",
        "# For more information, please refer to <https://unlicense.org>"
      ],
      "execution_count": 1,
      "outputs": []
    },
    {
      "cell_type": "markdown",
      "metadata": {
        "id": "uhsaDMb8gv-T"
      },
      "source": [
        "# Multiclass Image Classification with Feature Reduction"
      ]
    },
    {
      "cell_type": "markdown",
      "metadata": {
        "id": "auitI1wmhNGZ"
      },
      "source": [
        "This tutorial provides an end-to-end example of a multi-classification of images using basic machine learning algorithms such as decision trees and support vector machines. We will demonstrate the use of feature reduction using principal component analysis (PCA) and histogram of oriented gradients (HOG).\n",
        "\n",
        "We will use the CIFAR-10 dataset to explore our techniques."
      ]
    },
    {
      "cell_type": "markdown",
      "metadata": {
        "id": "5V9ezfrFjCFH"
      },
      "source": [
        "## Download CIFAR-10 Dataset"
      ]
    },
    {
      "cell_type": "markdown",
      "metadata": {
        "id": "EU7F_6arjWFf"
      },
      "source": [
        "The Keras machine learning API provides access to many datasets, including [CIFAR-10](https://www.cs.toronto.edu/~kriz/cifar.html) and [MNIST](http://yann.lecun.com/exdb/mnist/). Both training images and test images are available with a simple function ([CIFAR-10](https://keras.io/api/datasets/cifar10/#load_data-function), [MNIST](https://keras.io/api/datasets/mnist/#load_data-function)). Below, we import the CIFAR-10 dataset into train and test sets."
      ]
    },
    {
      "cell_type": "code",
      "metadata": {
        "id": "j54kkz6qjATh"
      },
      "source": [
        "DEBUG = False\n",
        "K_FOLDS = 2\n",
        "STEP_BY_STEP = False\n",
        "\n",
        "from keras.datasets import cifar10\n",
        "from keras.datasets import mnist\n",
        "\n",
        "(X_train, y_train), (X_test, y_test) = cifar10.load_data()\n"
      ],
      "execution_count": 2,
      "outputs": []
    },
    {
      "cell_type": "markdown",
      "metadata": {
        "id": "aV9qBhSJkuwm"
      },
      "source": [
        "## Examine CIFAR-10 Dataset"
      ]
    },
    {
      "cell_type": "markdown",
      "metadata": {
        "id": "Q2PoBXYak00s"
      },
      "source": [
        "When we examine the shape of the CIFAR-10 dataset, we see that the train set includes 50000 images having a size of 32x32 with a 3-value RGB encoding for each pixel (the shape doesn't tell us precisely what the features mean, but the shape does confer the 50000, 32x32x3 relationship). The targets are single vector labels. The test set has 10000 samples."
      ]
    },
    {
      "cell_type": "code",
      "metadata": {
        "colab": {
          "base_uri": "https://localhost:8080/"
        },
        "id": "NvezU1rRk0-N",
        "outputId": "b8866047-c5ca-4f44-e14a-9dcfc94e6cb6"
      },
      "source": [
        "print(f'X_train: {X_train.shape}')\n",
        "print(f'y_train: {y_train.shape}')\n",
        "print(f'X_test: {X_test.shape}')\n",
        "print(f'y_test: {y_test.shape}')"
      ],
      "execution_count": 3,
      "outputs": [
        {
          "output_type": "stream",
          "text": [
            "X_train: (50000, 32, 32, 3)\n",
            "y_train: (50000, 1)\n",
            "X_test: (10000, 32, 32, 3)\n",
            "y_test: (10000, 1)\n"
          ],
          "name": "stdout"
        }
      ]
    },
    {
      "cell_type": "markdown",
      "metadata": {
        "id": "crhNiab3mTc6"
      },
      "source": [
        "Let's take a closer look at the type of data included in the train sets. When we examine the individual features, we note a 3-tuple of values in the range [0..255]. Also, target values are bound between [0..9]."
      ]
    },
    {
      "cell_type": "code",
      "metadata": {
        "colab": {
          "base_uri": "https://localhost:8080/"
        },
        "id": "-w5Q-IAbmW2A",
        "outputId": "6ab95247-014d-47fa-a5b9-b8a3c4c9ec02"
      },
      "source": [
        "import numpy as np\n",
        "\n",
        "print(X_train[0])\n",
        "print(y_train[0])\n",
        "print(f'X_train range: {np.min(X_train)}..{np.max(X_train)}')\n",
        "print(f'y_train range: {np.min(y_train)}..{np.max(y_train)}')"
      ],
      "execution_count": 4,
      "outputs": [
        {
          "output_type": "stream",
          "text": [
            "[[[ 59  62  63]\n",
            "  [ 43  46  45]\n",
            "  [ 50  48  43]\n",
            "  ...\n",
            "  [158 132 108]\n",
            "  [152 125 102]\n",
            "  [148 124 103]]\n",
            "\n",
            " [[ 16  20  20]\n",
            "  [  0   0   0]\n",
            "  [ 18   8   0]\n",
            "  ...\n",
            "  [123  88  55]\n",
            "  [119  83  50]\n",
            "  [122  87  57]]\n",
            "\n",
            " [[ 25  24  21]\n",
            "  [ 16   7   0]\n",
            "  [ 49  27   8]\n",
            "  ...\n",
            "  [118  84  50]\n",
            "  [120  84  50]\n",
            "  [109  73  42]]\n",
            "\n",
            " ...\n",
            "\n",
            " [[208 170  96]\n",
            "  [201 153  34]\n",
            "  [198 161  26]\n",
            "  ...\n",
            "  [160 133  70]\n",
            "  [ 56  31   7]\n",
            "  [ 53  34  20]]\n",
            "\n",
            " [[180 139  96]\n",
            "  [173 123  42]\n",
            "  [186 144  30]\n",
            "  ...\n",
            "  [184 148  94]\n",
            "  [ 97  62  34]\n",
            "  [ 83  53  34]]\n",
            "\n",
            " [[177 144 116]\n",
            "  [168 129  94]\n",
            "  [179 142  87]\n",
            "  ...\n",
            "  [216 184 140]\n",
            "  [151 118  84]\n",
            "  [123  92  72]]]\n",
            "[6]\n",
            "X_train range: 0..255\n",
            "y_train range: 0..9\n"
          ],
          "name": "stdout"
        }
      ]
    },
    {
      "cell_type": "markdown",
      "metadata": {
        "id": "BPCVqVMBoGvw"
      },
      "source": [
        "When we examine the first image in the dataset, we see a relatively low resolution image of a frog.\n",
        "\n"
      ]
    },
    {
      "cell_type": "code",
      "metadata": {
        "colab": {
          "base_uri": "https://localhost:8080/",
          "height": 266
        },
        "id": "pki-tHZaoIZX",
        "outputId": "44c3b04d-9092-4259-8408-8ee45630f41f"
      },
      "source": [
        "import matplotlib.pyplot as plt\n",
        "\n",
        "plt.imshow(X_train[0])\n",
        "plt.show()"
      ],
      "execution_count": 5,
      "outputs": [
        {
          "output_type": "display_data",
          "data": {
            "image/png": "[encoded data removed]",
            "text/plain": [
              "<Figure size 432x288 with 1 Axes>"
            ]
          },
          "metadata": {
            "tags": [],
            "needs_background": "light"
          }
        }
      ]
    },
    {
      "cell_type": "markdown",
      "metadata": {
        "id": "g-XH_0_XpCLb"
      },
      "source": [
        "It could be helpful to view sets of images as a time. We'll create a function that will display many images at a time. We'd like to label our images, but CIFAR-10 provides only numerical labels. An examination of the [CIFAR-10](https://www.cs.toronto.edu/~kriz/cifar.html) website provides the labels we need."
      ]
    },
    {
      "cell_type": "code",
      "metadata": {
        "id": "zTiLEh3Cpo6n"
      },
      "source": [
        "labels = ['airplane', 'automobile', 'bird', 'cat', 'deer', 'dog', 'frog', 'horse', 'ship', 'truck']"
      ],
      "execution_count": 6,
      "outputs": []
    },
    {
      "cell_type": "markdown",
      "metadata": {
        "id": "fgYXw9hvpwMW"
      },
      "source": [
        "We can use the labels in a function that displays multiple images in a customizable grid."
      ]
    },
    {
      "cell_type": "code",
      "metadata": {
        "id": "o-GXFnYWpwe0"
      },
      "source": [
        "# display images with labels in a nrows x ncols grid starting with the index image in the X dataset\n",
        "def plot_figures(nrows, ncols, X, y, labels, cmap=None, start=0):\n",
        "    fig, axes = plt.subplots(ncols=ncols, nrows=nrows, figsize=(ncols*2 + (ncols-1)/2, nrows*2 + (nrows+1)/2))\n",
        "    index = start\n",
        "    for i in range(nrows):\n",
        "        for j in range(ncols):\n",
        "            axes[i,j].set_title(f'{index} {labels[y[index].item()]}')\n",
        "            axes[i,j].imshow(X[index], cmap)\n",
        "            axes[i,j].get_xaxis().set_visible(False)\n",
        "            axes[i,j].get_yaxis().set_visible(False)\n",
        "            index += 1\n",
        "    plt.show()"
      ],
      "execution_count": 7,
      "outputs": []
    },
    {
      "cell_type": "markdown",
      "metadata": {
        "id": "GoZYZW6YrVyE"
      },
      "source": [
        "The above function iterates over the images in X displaying them in rows and columns. The title is provided as the image's index in the X array followed by the label (given by indexing the `labels` array with the `y` target value--as `y` is a 2d array, we need to grab the first and only element of the `y` row, so we use the `.item()` method."
      ]
    },
    {
      "cell_type": "code",
      "metadata": {
        "colab": {
          "base_uri": "https://localhost:8080/",
          "height": 612
        },
        "id": "fmPBp-SuqYbs",
        "outputId": "e549d011-dc2f-455f-b229-a5ea1c25a275"
      },
      "source": [
        "plot_figures(4, 4, X_train, y_train, labels)"
      ],
      "execution_count": 8,
      "outputs": [
        {
          "output_type": "display_data",
          "data": {
            "image/png": "[encoded data removed]",
            "text/plain": [
              "<Figure size 684x756 with 16 Axes>"
            ]
          },
          "metadata": {
            "tags": [],
            "needs_background": "light"
          }
        }
      ]
    },
    {
      "cell_type": "markdown",
      "metadata": {
        "id": "gKbUkxPwu9CC"
      },
      "source": [
        "## Transform Image Features for Input into ML Algorithms"
      ]
    },
    {
      "cell_type": "markdown",
      "metadata": {
        "id": "WARPsRGBvFCu"
      },
      "source": [
        "In general, the feature structure of the `X_train` array will not work with machine learning algorithms. `X_train` is hallmarked by 50000 nested observations. That is, each observation is an a 32x32 array of 3 values. We instead need to ``unwrap'' each observation so that we have a row 32x32x3 features. We can do this by [reshaping](https://numpy.org/doc/stable/reference/generated/numpy.reshape.html) the array. Using a reshape value of -1 allows the function to infer the correct shape according to the lengths of each of the dimensions. The end result is an array 50000x3072 representing 50000 images each having 3072 features."
      ]
    },
    {
      "cell_type": "code",
      "metadata": {
        "colab": {
          "base_uri": "https://localhost:8080/"
        },
        "id": "edU8IFDJ6pJV",
        "outputId": "b759ea65-da5a-4a24-b2e9-52bcc25c59c6"
      },
      "source": [
        "X_train_tf = X_train.reshape(X_train.shape[0], -1)\n",
        "X_test_tf = X_test.reshape(X_test.shape[0], -1)\n",
        "\n",
        "print(f'X_train_tf shape: {X_train_tf.shape}')"
      ],
      "execution_count": 9,
      "outputs": [
        {
          "output_type": "stream",
          "text": [
            "X_train_tf shape: (50000, 3072)\n"
          ],
          "name": "stdout"
        }
      ]
    },
    {
      "cell_type": "markdown",
      "metadata": {
        "id": "qGK4q5r77wAd"
      },
      "source": [
        "Another transformation to consider is normalizing all the RGB features to a value between [0..1]. Unlike the MinMaxScaler, we want to fix a value of 0 to zero and a value of 255 to 1. So, instead of using the MinMaxScaler, we will simply divide each of the features by 255."
      ]
    },
    {
      "cell_type": "code",
      "metadata": {
        "colab": {
          "base_uri": "https://localhost:8080/"
        },
        "id": "2xpe_nfT7_l9",
        "outputId": "3d11e893-5c1e-46f3-d65b-4e200d1920dc"
      },
      "source": [
        "X_train_tf = X_train_tf / 255.\n",
        "X_test_tf = X_test_tf / 255.\n",
        "\n",
        "print(f'X_train_tf range: {np.min(X_train_tf)}..{np.max(X_train_tf)}')"
      ],
      "execution_count": 10,
      "outputs": [
        {
          "output_type": "stream",
          "text": [
            "X_train_tf range: 0.0..1.0\n"
          ],
          "name": "stdout"
        }
      ]
    },
    {
      "cell_type": "markdown",
      "metadata": {
        "id": "HYjVdmgW8YKN"
      },
      "source": [
        "There is no need to transform the target values. Unlike feature inputs, categorical values in the target do not need to be transformed to a one hot encoding scheme."
      ]
    },
    {
      "cell_type": "markdown",
      "metadata": {
        "id": "HdaV5VmCtzwX"
      },
      "source": [
        "## Naive Classification"
      ]
    },
    {
      "cell_type": "markdown",
      "metadata": {
        "id": "rKJ87YHTt4CC"
      },
      "source": [
        "Let's try and use some basic classification techniques to see what we can come up with. To avoid overfitting, we'll use 5-fold cross-validation with stratification to ensure that we have a the target class of each fold has a similar ratio as the target class of the entire training set. Both tof these options are available by default in the `cross_val_score` function."
      ]
    },
    {
      "cell_type": "code",
      "metadata": {
        "id": "z-GzaabduD2G"
      },
      "source": [
        "from sklearn.pipeline import Pipeline\n",
        "from sklearn.tree import DecisionTreeClassifier\n",
        "from sklearn.svm import SVC\n",
        "from sklearn.model_selection import cross_val_score\n",
        "from sklearn.metrics import accuracy_score\n",
        "\n",
        "if STEP_BY_STEP:\n",
        "    accuracy = cross_val_score(DecisionTreeClassifier(), X_train_tf, y_train, cv=K_FOLDS)\n",
        "    print(f'DTC accuracy: {np.mean(accuracy):.3f} (+/-{2*np.std(accuracy):.3f})')\n",
        "\n",
        "    # accuracy = cross_val_score(SVC(degree=1), X_train_tf, y_train.ravel()) # SVC prefers 1d target array\n",
        "    # print(f'SVC accuracy: {np.mean(accuracy):.3f} (+/-{2*np.std(accuracy)})')\n"
      ],
      "execution_count": 11,
      "outputs": []
    },
    {
      "cell_type": "markdown",
      "metadata": {
        "id": "-t2OC7HHGEsB"
      },
      "source": [
        "## Feature Reduction"
      ]
    },
    {
      "cell_type": "markdown",
      "metadata": {
        "id": "VYtV0-inGGEv"
      },
      "source": [
        "Let's look at three methods of feature reduction:\n",
        "- Change color space to gray scale\n",
        "- Histogram of Oriented gradients (HOG)\n",
        "- Principal Component Analysis (PCA)"
      ]
    },
    {
      "cell_type": "markdown",
      "metadata": {
        "id": "hFmh9kUBGZRE"
      },
      "source": [
        "### Change to gray scale"
      ]
    },
    {
      "cell_type": "markdown",
      "metadata": {
        "id": "eFsR-ItXGcqT"
      },
      "source": [
        "The first feature reduction method will simply be to change from RGB scale to gray scale colors. This will reduce the feature space from 32x32x3 to 32x32.\n",
        "\n",
        "The opencv-python library offers a convenient function `cvtColor` to convert colorspaces, with 274 different available conversions. The flag for converting from RGB to Gray is `cv2.COLOR_RGB2GRAY`. Note that the `cvtColor` function requires the original image feature structure, 32x32x3, and it will return observations of 32x32."
      ]
    },
    {
      "cell_type": "code",
      "metadata": {
        "id": "h1HSIHlCI6Mn"
      },
      "source": [
        "from cv2 import cvtColor, COLOR_RGB2GRAY\n",
        "\n",
        "if STEP_BY_STEP:\n",
        "    X_train_gray = np.array([cvtColor(image, COLOR_RGB2GRAY) for image in X_train])\n",
        "    X_test_gray = np.array([cvtColor(image, COLOR_RGB2GRAY) for image in X_test])\n",
        "\n",
        "    print(f'X_train_fray shape: {X_train_gray.shape}')\n",
        "    print(X_train_gray[0])"
      ],
      "execution_count": 12,
      "outputs": []
    },
    {
      "cell_type": "markdown",
      "metadata": {
        "id": "xD4LaMZ7KtFq"
      },
      "source": [
        "We need to transform the values into [0..255] range:"
      ]
    },
    {
      "cell_type": "code",
      "metadata": {
        "id": "WToWsfocKxJ-"
      },
      "source": [
        "if STEP_BY_STEP:\n",
        "    X_train_gray_tf = X_train_gray.reshape(X_train_gray.shape[0], -1)\n",
        "    X_train_gray_tf = X_train_gray_tf / 255.\n",
        "\n",
        "    X_test_gray_tf = X_test_gray.reshape(X_test_gray.shape[0], -1)\n",
        "    X_test_gray_tf = X_test_gray_tf / 255."
      ],
      "execution_count": 13,
      "outputs": []
    },
    {
      "cell_type": "code",
      "metadata": {
        "id": "e8LoXLpvLAg_"
      },
      "source": [
        "if STEP_BY_STEP:\n",
        "    accuracy = cross_val_score(DecisionTreeClassifier(), X_train_gray_tf, y_train, cv=K_FOLDS)\n",
        "    print(f'DTC accuracy: {np.mean(accuracy):.3f} (+/-{2*np.std(accuracy):.3f})')\n",
        "\n",
        "    # accuracy = cross_val_score(SVC(degree=1), X_train_gray_tf, y_train.ravel()) # SVC prefers 1d target array\n",
        "    # print(f'SVC accuracy: {np.mean(accuracy):.3f} (+/-{2*np.std(accuracy)})')"
      ],
      "execution_count": 14,
      "outputs": []
    },
    {
      "cell_type": "markdown",
      "metadata": {
        "id": "dnTbh2oWL8wb"
      },
      "source": [
        "### Histogram of Orientated Gradients\n",
        "\n",
        "For an overview of of HOG, consider [this Python Code tutorial](https://www.thepythoncode.com/article/hog-feature-extraction-in-python). If you do use HOG in your research, consider referencing [Dalal & Triggs 2005 paper](https://lear.inrialpes.fr/people/triggs/pubs/Dalal-cvpr05.pdf). A visualization of HOG applied to a high-quality image is available in the [scikit-image docs](https://scikit-image.org/docs/dev/auto_examples/features_detection/plot_hog.html).\n",
        "\n",
        "The HOG algorithm is applied to the frog image below. In this example, we use a cell size of 4x4 with 2x2 cells per block. This means that the 4x4 filter will step across the image 2 pixels at time. As the image is 32x32, the 4x4 filter, starting in the top left corner, will take 14 steps across and 14 steps down the image, creating 9 features at each step. Consequently, the 32x32x3 = 3072 feature space will be reduced to 14x14x9 = 1764.\n"
      ]
    },
    {
      "cell_type": "code",
      "metadata": {
        "colab": {
          "base_uri": "https://localhost:8080/",
          "height": 284
        },
        "id": "slXwjLWYOdQd",
        "outputId": "2242d7a8-d96c-43c9-f7b8-a7dc1cb8a088"
      },
      "source": [
        "from skimage.feature import hog\n",
        "from skimage import data, exposure\n",
        "\n",
        "# image = data.astronaut()\n",
        "image=X_train[0]\n",
        "print(image.shape)\n",
        "fd, hog_image = hog(image, orientations=9, pixels_per_cell=(4,4), cells_per_block=(2,2), visualize=True, multichannel=True)\n",
        "fig, (ax1, ax2) = plt.subplots(1, 2, figsize=(8,4), sharex=True, sharey=True)\n",
        "\n",
        "\n",
        "ax1.axis('off')\n",
        "ax1.imshow(image, cmap=plt.cm.gray)\n",
        "ax1.set_title('Input image')\n",
        "\n",
        "# Rescale histogram for better display\n",
        "hog_image = exposure.rescale_intensity(hog_image, in_range=(0, 10))\n",
        "\n",
        "ax2.axis('off')\n",
        "ax2.imshow(hog_image, cmap=plt.cm.gray)\n",
        "ax2.set_title('Histogram of Oriented Gradients')\n",
        "plt.show()\n",
        "\n",
        "print(fd.shape)"
      ],
      "execution_count": 15,
      "outputs": [
        {
          "output_type": "stream",
          "text": [
            "(32, 32, 3)\n"
          ],
          "name": "stdout"
        },
        {
          "output_type": "display_data",
          "data": {
            "image/png": "[encoded data removed]",
            "text/plain": [
              "<Figure size 576x288 with 2 Axes>"
            ]
          },
          "metadata": {
            "tags": [],
            "needs_background": "light"
          }
        },
        {
          "output_type": "stream",
          "text": [
            "(1764,)\n"
          ],
          "name": "stdout"
        }
      ]
    },
    {
      "cell_type": "code",
      "metadata": {
        "id": "x1U7qW39c93T"
      },
      "source": [
        "if STEP_BY_STEP:\n",
        "    X_train_hog = np.array([hog(image, \n",
        "                                orientations=9, \n",
        "                                pixels_per_cell=(4,4), \n",
        "                                cells_per_block=(2,2), \n",
        "                                visualize=False, \n",
        "                                multichannel=True) for image in X_train])\n",
        "    X_test_hog = np.array([hog(image, \n",
        "                            orientations=9, \n",
        "                            pixels_per_cell=(4,4), \n",
        "                            cells_per_block=(2,2), \n",
        "                            visualize=False, \n",
        "                            multichannel=True) for image in X_test])\n",
        "    print(X_train_hog.shape)\n",
        "    print(X_test_hog.shape)"
      ],
      "execution_count": 16,
      "outputs": []
    },
    {
      "cell_type": "code",
      "metadata": {
        "id": "UVYi0GA0edCC"
      },
      "source": [
        "if STEP_BY_STEP:\n",
        "    accuracy = cross_val_score(DecisionTreeClassifier(), X_train_hog, y_train, cv=K_FOLDS)\n",
        "    print(f'DTC accuracy: {np.mean(accuracy):.3f} (+/-{2*np.std(accuracy):.3f})')\n",
        "\n",
        "    # accuracy = cross_val_score(SVC(degree=1), X_train_gray_tf, y_train.ravel()) # SVC prefers 1d target array\n",
        "    # print(f'SVC accuracy: {np.mean(accuracy):.3f} (+/-{2*np.std(accuracy)})')"
      ],
      "execution_count": 17,
      "outputs": []
    },
    {
      "cell_type": "markdown",
      "metadata": {
        "id": "xrVmGhLHeplG"
      },
      "source": [
        "### Principal Component Analysis"
      ]
    },
    {
      "cell_type": "markdown",
      "metadata": {
        "id": "OIfCJKcZetkj"
      },
      "source": [
        "Principal component analysis (PCA) is a technique to identify the combinations of features that explain the variance in a feature set to create a low-dimensional feature space. See _ISLR_ pages 374-376 for additional details. In the example below, we use the scikit-learn PCA function to find a transform from the X feature space to X' where the amount of variance explained by the features in X' is at least 70%."
      ]
    },
    {
      "cell_type": "code",
      "metadata": {
        "id": "Uz712Vnxeoew"
      },
      "source": [
        "from sklearn.decomposition import PCA\n",
        "\n",
        "if STEP_BY_STEP:\n",
        "    pca = PCA(.7) # can also use an integer to specify a number of features. \n",
        "    X_train_pca = pca.fit_transform(X_train_tf)\n",
        "    X_test_pca = pca.transform(X_test_tf)"
      ],
      "execution_count": 18,
      "outputs": []
    },
    {
      "cell_type": "code",
      "metadata": {
        "id": "paEZYuy8g0Cf"
      },
      "source": [
        "if STEP_BY_STEP:\n",
        "    accuracy = cross_val_score(DecisionTreeClassifier(), X_train_pca, y_train, cv=K_FOLDS)\n",
        "    print(f'DTC accuracy: {np.mean(accuracy):.3f} (+/-{2*np.std(accuracy):.3f})')\n",
        "\n",
        "    # accuracy = cross_val_score(SVC(degree=1), X_train_gray_tf, y_train.ravel()) # SVC prefers 1d target array\n",
        "    # print(f'SVC accuracy: {np.mean(accuracy):.3f} (+/-{2*np.std(accuracy)})')"
      ],
      "execution_count": 19,
      "outputs": []
    },
    {
      "cell_type": "markdown",
      "metadata": {
        "id": "5J5vas3qhHx6"
      },
      "source": [
        "## One pipeline to rule them all"
      ]
    },
    {
      "cell_type": "markdown",
      "metadata": {
        "id": "GqCLWx0thLDE"
      },
      "source": [
        "In this section, we will repeat the above steps in order that we can combine all of them in a single pipeline. Doing this will allow us to use the pipeline to conduct a gridsearch over hyperparameters. A pipeline step requires an estimator that implements fit and transform."
      ]
    },
    {
      "cell_type": "markdown",
      "metadata": {
        "id": "-jukUupih9lV"
      },
      "source": [
        "### Flatten and Normalize image\n"
      ]
    },
    {
      "cell_type": "markdown",
      "metadata": {
        "id": "J7sEIrh6iAko"
      },
      "source": [
        "The following class will flatten and normalize observations"
      ]
    },
    {
      "cell_type": "code",
      "metadata": {
        "id": "Tz3uZCnPiEfA"
      },
      "source": [
        "from sklearn.base import BaseEstimator, TransformerMixin\n",
        "\n",
        "class FlattenImages(TransformerMixin, BaseEstimator):\n",
        "    def __init__(self):\n",
        "        pass\n",
        "\n",
        "    def fit(self, X, y=None):\n",
        "        return self\n",
        "\n",
        "    def transform(self, X):\n",
        "        return X.reshape(X.shape[0], -1) / 255."
      ],
      "execution_count": 68,
      "outputs": []
    },
    {
      "cell_type": "markdown",
      "metadata": {
        "id": "d_SS80Vainy5"
      },
      "source": [
        "### Recolor Image\n"
      ]
    },
    {
      "cell_type": "markdown",
      "metadata": {
        "id": "L0nxXYeZiyoh"
      },
      "source": [
        "The following class will recolor observations"
      ]
    },
    {
      "cell_type": "code",
      "metadata": {
        "id": "m9acK6k7i1Mx"
      },
      "source": [
        "import cv2\n",
        "\n",
        "class RecolorImages(TransformerMixin, BaseEstimator):\n",
        "    def __init__(self, color=cv2.COLOR_RGB2GRAY):\n",
        "        self.color = color\n",
        "\n",
        "    def fit(self, X, y=None):\n",
        "        return self\n",
        "\n",
        "    def transform(self, X):\n",
        "        return np.array([cv2.cvtColor(image, self.color) for image in X])\n"
      ],
      "execution_count": 69,
      "outputs": []
    },
    {
      "cell_type": "markdown",
      "metadata": {
        "id": "Q0nci7kmjfxh"
      },
      "source": [
        "### HOG Image"
      ]
    },
    {
      "cell_type": "markdown",
      "metadata": {
        "id": "wFQiSNxIjjNz"
      },
      "source": [
        "The following class will transform observations using HOG"
      ]
    },
    {
      "cell_type": "code",
      "metadata": {
        "id": "_BCoRwoXjwpb"
      },
      "source": [
        "class HOGImages(TransformerMixin, BaseEstimator):\n",
        "    def __init__(self, skip=True, orientations=9, pixels_per_cell=8, cells_per_block=4, multichannel=True):\n",
        "        self.skip = skip\n",
        "        self.orientations = orientations\n",
        "        self.pixels_per_cell = pixels_per_cell\n",
        "        self.cells_per_block = cells_per_block\n",
        "        self.multichannel = multichannel\n",
        "\n",
        "    def fit(self, X, y=None):\n",
        "        return self\n",
        "    \n",
        "    def transform(self, X):\n",
        "\n",
        "        if self.skip:\n",
        "\n",
        "            return X\n",
        "        else:\n",
        "\n",
        "            new_X = np.array([hog(image, \n",
        "                                orientations=self.orientations, \n",
        "                                pixels_per_cell=(self.pixels_per_cell,self.pixels_per_cell), \n",
        "                                cells_per_block=(self.cells_per_block,self.cells_per_block), \n",
        "                                visualize=False, \n",
        "                                multichannel=self.multichannel) for image in X])\n",
        "            return new_X\n"
      ],
      "execution_count": 70,
      "outputs": []
    },
    {
      "cell_type": "markdown",
      "metadata": {
        "id": "nFIaOF57laGu"
      },
      "source": [
        "### PCA Image"
      ]
    },
    {
      "cell_type": "markdown",
      "metadata": {
        "id": "8aSKT5_7lbqa"
      },
      "source": [
        "The following class will apply PCA unless n_components is None"
      ]
    },
    {
      "cell_type": "code",
      "metadata": {
        "id": "ACJKRtWclobn"
      },
      "source": [
        "# class PCAImages(TransformerMixin, BaseEstimator):\n",
        "#     def __init__(self, n_components = None):\n",
        "#         self.n_components = n_components\n",
        "#         # if n_components is not None:\n",
        "#         #     self.pca = PCA(n_components)\n",
        "#         # else:\n",
        "#         #     self.pca = None\n",
        "\n",
        "#     def fit(self, X, y=None):\n",
        "#         if self.n_components is not None:\n",
        "#             pca = PCA(n_components)\n",
        "\n",
        "#         print(self.n_components)\n",
        "#         if self.n_components is not None:\n",
        "#             return pca.fit(X, y)\n",
        "#         return self\n",
        "    \n",
        "#     def transform(self, X, y=None):\n",
        "#         if self.n_components is not None:\n",
        "#             return self.pca.transform(X, y)    \n",
        "#         else:\n",
        "#             return X"
      ],
      "execution_count": 71,
      "outputs": []
    },
    {
      "cell_type": "markdown",
      "metadata": {
        "id": "fKf5pkX_mUGM"
      },
      "source": [
        "### Pipeline"
      ]
    },
    {
      "cell_type": "markdown",
      "metadata": {
        "id": "SjdkwbdIPUjY"
      },
      "source": [
        "Transforming/fitting each of the features is time-consuming. We can save time by storing those transformations for reuse. We can  "
      ]
    },
    {
      "cell_type": "code",
      "metadata": {
        "colab": {
          "base_uri": "https://localhost:8080/"
        },
        "id": "xLIBvhV-ChTL",
        "outputId": "587e487c-4d01-4a34-e1b8-1d6c6a88b96d"
      },
      "source": [
        "import string\n",
        "\n",
        "letters = list(string.ascii_lowercase)\n",
        "\n",
        "# there is a theoretical possibility of overwriting your cache\n",
        "# if notebooks are in the same folder and have the same seed value\n",
        "rng = np.random.default_rng(seed = 42) \n",
        "\n",
        "if 'google.colab' in str(get_ipython()):\n",
        "    from google.colab import drive\n",
        "    drive.mount('/content/drive')\n",
        "    cache_store = '/content/drive/MyDrive/search_cache_multiclassification_' + ''.join(rng.choice(letters) for i in range(10))\n",
        "else:\n",
        "    cache_store = 'search_cache_' + ''.join(rng.choice(letters) for i in range(10))"
      ],
      "execution_count": 72,
      "outputs": [
        {
          "output_type": "stream",
          "text": [
            "Drive already mounted at /content/drive; to attempt to forcibly remount, call drive.mount(\"/content/drive\", force_remount=True).\n"
          ],
          "name": "stdout"
        }
      ]
    },
    {
      "cell_type": "code",
      "metadata": {
        "id": "JIQsUWArmWC-"
      },
      "source": [
        "from sklearn.pipeline import Pipeline\n",
        "\n",
        "pipeline = Pipeline(steps=[\n",
        "    ('recolor', RecolorImages()),\n",
        "    ('hog', HOGImages()),\n",
        "    ('flatten', FlattenImages()),\n",
        "    ('pca', PCA()),\n",
        "    ('dtc', DecisionTreeClassifier())     \n",
        "], memory=cache_store)"
      ],
      "execution_count": 73,
      "outputs": []
    },
    {
      "cell_type": "code",
      "metadata": {
        "id": "0Sj1csrgm4ad",
        "colab": {
          "base_uri": "https://localhost:8080/"
        },
        "outputId": "4ca2017b-a224-4e13-a4b4-15fc059a4fa7"
      },
      "source": [
        "param_grid = [\n",
        "    # RGB\n",
        "    {\n",
        "        'recolor': ['passthrough'],\n",
        "        'hog__skip': [True],\n",
        "        'pca': ['passthrough', PCA(0.7, 0.8, 0.9, 0.95, 0.99)],\n",
        "        # 'dtc__max_depth': [1]\n",
        "    },\n",
        "    # grayscale\n",
        "    {\n",
        "        'recolor__color': [cv2.COLOR_RGB2GRAY], #['passthrough'], #,\n",
        "        'hog__skip': [True, False],\n",
        "        'hog__multichannel': [False],\n",
        "        'hog__pixels_per_cell': [4, 8, 16],\n",
        "        'hog__cells_per_block': [1, 2, 3],\n",
        "        'pca': ['passthrough', PCA(0.7, 0.8, 0.9, 0.95, 0.99)],\n",
        "        # 'dtc__max_depth': [1]\n",
        "    }\n",
        "]\n"
      ],
      "execution_count": 87,
      "outputs": [
        {
          "output_type": "stream",
          "text": [
            "[{'recolor__color': [7], 'hog__skip': [True, False], 'hog__multichannel': [False], 'hog__pixels_per_cell': [8, 16], 'pca': ['passthrough']}]\n"
          ],
          "name": "stdout"
        }
      ]
    },
    {
      "cell_type": "code",
      "metadata": {
        "colab": {
          "base_uri": "https://localhost:8080/"
        },
        "id": "EBuWdWKQnEMW",
        "outputId": "edb8fb3e-109a-4769-df98-6950c1718d0a"
      },
      "source": [
        "from sklearn.model_selection import GridSearchCV\n",
        "import warnings\n",
        "\n",
        "grid_search = GridSearchCV(pipeline, param_grid, n_jobs=1, verbose=4, cv=K_FOLDS)\n",
        "print('X', type(X_train))\n",
        "with warnings.catch_warnings():\n",
        "    warnings.simplefilter('ignore', UserWarning)\n",
        "    grid_search.fit(X_train, y_train)"
      ],
      "execution_count": 88,
      "outputs": [
        {
          "output_type": "stream",
          "text": [
            "X <class 'numpy.ndarray'>\n",
            "Fitting 2 folds for each of 4 candidates, totalling 8 fits\n",
            "[CV] hog__multichannel=False, hog__pixels_per_cell=8, hog__skip=True, pca=passthrough, recolor__color=7 \n"
          ],
          "name": "stdout"
        },
        {
          "output_type": "stream",
          "text": [
            "[Parallel(n_jobs=1)]: Using backend SequentialBackend with 1 concurrent workers.\n"
          ],
          "name": "stderr"
        },
        {
          "output_type": "stream",
          "text": [
            "there (25000, 32, 32)\n",
            "[CV]  hog__multichannel=False, hog__pixels_per_cell=8, hog__skip=True, pca=passthrough, recolor__color=7, score=0.213, total=  38.8s\n",
            "[CV] hog__multichannel=False, hog__pixels_per_cell=8, hog__skip=True, pca=passthrough, recolor__color=7 \n"
          ],
          "name": "stdout"
        },
        {
          "output_type": "stream",
          "text": [
            "[Parallel(n_jobs=1)]: Done   1 out of   1 | elapsed:   38.9s remaining:    0.0s\n"
          ],
          "name": "stderr"
        },
        {
          "output_type": "stream",
          "text": [
            "there (25000, 32, 32)\n",
            "[CV]  hog__multichannel=False, hog__pixels_per_cell=8, hog__skip=True, pca=passthrough, recolor__color=7, score=0.216, total=  35.6s\n",
            "[CV] hog__multichannel=False, hog__pixels_per_cell=8, hog__skip=False, pca=passthrough, recolor__color=7 \n"
          ],
          "name": "stdout"
        },
        {
          "output_type": "stream",
          "text": [
            "[Parallel(n_jobs=1)]: Done   2 out of   2 | elapsed:  1.2min remaining:    0.0s\n",
            "/usr/local/lib/python3.7/dist-packages/sklearn/model_selection/_validation.py:536: FitFailedWarning: Estimator fit failed. The score on this train-test partition for these parameters will be set to nan. Details: \n",
            "AttributeError: 'NoneType' object has no attribute 'reshape'\n",
            "\n",
            "  FitFailedWarning)\n",
            "[Parallel(n_jobs=1)]: Done   3 out of   3 | elapsed:  1.3min remaining:    0.0s\n"
          ],
          "name": "stderr"
        },
        {
          "output_type": "stream",
          "text": [
            "[CV]  hog__multichannel=False, hog__pixels_per_cell=8, hog__skip=False, pca=passthrough, recolor__color=7, score=nan, total=   0.5s\n",
            "[CV] hog__multichannel=False, hog__pixels_per_cell=8, hog__skip=False, pca=passthrough, recolor__color=7 \n",
            "[CV]  hog__multichannel=False, hog__pixels_per_cell=8, hog__skip=False, pca=passthrough, recolor__color=7, score=nan, total=   0.5s\n",
            "[CV] hog__multichannel=False, hog__pixels_per_cell=16, hog__skip=True, pca=passthrough, recolor__color=7 \n",
            "there (25000, 32, 32)\n",
            "[CV]  hog__multichannel=False, hog__pixels_per_cell=16, hog__skip=True, pca=passthrough, recolor__color=7, score=0.214, total=  37.4s\n",
            "[CV] hog__multichannel=False, hog__pixels_per_cell=16, hog__skip=True, pca=passthrough, recolor__color=7 \n",
            "there (25000, 32, 32)\n",
            "[CV]  hog__multichannel=False, hog__pixels_per_cell=16, hog__skip=True, pca=passthrough, recolor__color=7, score=0.215, total=  35.3s\n",
            "[CV] hog__multichannel=False, hog__pixels_per_cell=16, hog__skip=False, pca=passthrough, recolor__color=7 \n",
            "here (25000, 32, 32)\n",
            "[CV]  hog__multichannel=False, hog__pixels_per_cell=16, hog__skip=False, pca=passthrough, recolor__color=7, score=0.214, total=  37.7s\n",
            "[CV] hog__multichannel=False, hog__pixels_per_cell=16, hog__skip=False, pca=passthrough, recolor__color=7 \n",
            "here (25000, 32, 32)\n",
            "[CV]  hog__multichannel=False, hog__pixels_per_cell=16, hog__skip=False, pca=passthrough, recolor__color=7, score=0.215, total=  36.2s\n"
          ],
          "name": "stdout"
        },
        {
          "output_type": "stream",
          "text": [
            "[Parallel(n_jobs=1)]: Done   8 out of   8 | elapsed:  3.7min finished\n"
          ],
          "name": "stderr"
        }
      ]
    },
    {
      "cell_type": "code",
      "metadata": {
        "id": "BKbAClv9nkga"
      },
      "source": [
        "def display_search_results(grid_search):\n",
        "    means = grid_search.cv_results_['mean_test_score']\n",
        "    stds = grid_search.cv_results_['std_test_score']\n",
        "    for mean, std, params in zip(means, stds, grid_search.cv_results_['params']):\n",
        "        print(\"%0.3f (+/-%0.03f) for %r\"\n",
        "                % (mean, std * 2, params))\n",
        "\n",
        "    best_loc = np.nanargmax(means)\n",
        "    print(f'Best: {means[best_loc]:.3f} (+/-{stds[best_loc] * 2:.3f}) for {grid_search.cv_results_[\"params\"][best_loc]}')"
      ],
      "execution_count": 89,
      "outputs": []
    },
    {
      "cell_type": "code",
      "metadata": {
        "colab": {
          "base_uri": "https://localhost:8080/"
        },
        "id": "xFI8Ut4Unn_t",
        "outputId": "52af7329-c77c-4d75-c43c-15b49b7cfee0"
      },
      "source": [
        "display_search_results(grid_search)"
      ],
      "execution_count": 90,
      "outputs": [
        {
          "output_type": "stream",
          "text": [
            "0.214 (+/-0.003) for {'hog__multichannel': False, 'hog__pixels_per_cell': 8, 'hog__skip': True, 'pca': 'passthrough', 'recolor__color': 7}\n",
            "nan (+/-nan) for {'hog__multichannel': False, 'hog__pixels_per_cell': 8, 'hog__skip': False, 'pca': 'passthrough', 'recolor__color': 7}\n",
            "0.215 (+/-0.001) for {'hog__multichannel': False, 'hog__pixels_per_cell': 16, 'hog__skip': True, 'pca': 'passthrough', 'recolor__color': 7}\n",
            "0.215 (+/-0.000) for {'hog__multichannel': False, 'hog__pixels_per_cell': 16, 'hog__skip': False, 'pca': 'passthrough', 'recolor__color': 7}\n",
            "Best: 0.215 (+/-0.001) for {'hog__multichannel': False, 'hog__pixels_per_cell': 16, 'hog__skip': True, 'pca': 'passthrough', 'recolor__color': 7}\n"
          ],
          "name": "stdout"
        }
      ]
    },
    {
      "cell_type": "code",
      "metadata": {
        "id": "t7oHKisdrzwJ",
        "colab": {
          "base_uri": "https://localhost:8080/"
        },
        "outputId": "67fe6e1d-a116-416d-eb75-f6fc8fef7be3"
      },
      "source": [
        "y_train_pred = grid_search.predict(X_train)"
      ],
      "execution_count": 91,
      "outputs": [
        {
          "output_type": "stream",
          "text": [
            "there (50000, 32, 32)\n"
          ],
          "name": "stdout"
        }
      ]
    },
    {
      "cell_type": "code",
      "metadata": {
        "colab": {
          "base_uri": "https://localhost:8080/",
          "height": 816
        },
        "id": "xC88aEeIsCFg",
        "outputId": "c2e29e03-5cf1-4c11-fc38-7a4cb8e481f2"
      },
      "source": [
        "from sklearn.metrics import confusion_matrix\n",
        "from mpl_toolkits.axes_grid1 import make_axes_locatable\n",
        "from matplotlib.colors import Normalize\n",
        "\n",
        "conf_mx = confusion_matrix(y_train, y_train_pred)\n",
        "row_sums=conf_mx.sum(axis=1, keepdims=True)\n",
        "norm_conf_mx = conf_mx / row_sums #np.max(conf_mx) #row_sums\n",
        "\n",
        "figure = plt.figure(figsize=(16, 12))\n",
        "axes = figure.add_subplot(111)\n",
        "\n",
        "caxes = axes.matshow(norm_conf_mx) #cmap=plt.cm.gray)\n",
        "figure.colorbar(caxes)\n",
        "\n",
        "\n",
        "axes.set_xticklabels(labels, rotation=60, ha='left', fontsize='x-large', fontweight='bold')\n",
        "axes.set_yticklabels(labels, fontsize='x-large', fontweight='bold')\n",
        "axes.set_xticks(np.arange(len(labels)))\n",
        "axes.set_yticks(np.arange(len(labels)))\n",
        "\n",
        "axes.set_xlabel('Predicted Class', fontsize='x-large', fontweight='bold', labelpad=25)\n",
        "axes.set_ylabel('True Class', fontsize='x-large', fontweight='bold')\n",
        "\n",
        "for (row, col), z in np.ndenumerate(norm_conf_mx):\n",
        "    axes.text(col, row, '{:.0%}'.format(z), ha='center', va='center', color=[1,1,1], fontsize='x-large', fontweight='bold')\n",
        "\n",
        "plt.show()"
      ],
      "execution_count": 92,
      "outputs": [
        {
          "output_type": "display_data",
          "data": {
            "image/png": "[encoded data removed]",
            "text/plain": [
              "<Figure size 1152x864 with 2 Axes>"
            ]
          },
          "metadata": {
            "tags": [],
            "needs_background": "light"
          }
        }
      ]
    }
  ]
}